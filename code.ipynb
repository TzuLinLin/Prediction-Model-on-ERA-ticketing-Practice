{
  "nbformat": 4,
  "nbformat_minor": 0,
  "metadata": {
    "colab": {
      "name": "Big Data Project2 Karen.ipynb",
      "provenance": []
    },
    "kernelspec": {
      "name": "python3",
      "display_name": "Python 3"
    },
    "language_info": {
      "name": "python"
    }
  },
  "cells": [
    {
      "cell_type": "code",
      "metadata": {
        "id": "TafhS4SNqFeL"
      },
      "source": [
        "import pandas as pd\n",
        "from sklearn import preprocessing\n",
        "from sklearn.model_selection import train_test_split\n",
        "import matplotlib.pyplot as plt\n",
        "import seaborn as sns"
      ],
      "execution_count": null,
      "outputs": []
    },
    {
      "cell_type": "code",
      "metadata": {
        "colab": {
          "base_uri": "https://localhost:8080/",
          "height": 513
        },
        "id": "pWQk9S2bqkGN",
        "outputId": "0196d529-6453-41db-ba31-b6db32f33526"
      },
      "source": [
        "df = pd.read_csv(\"/content/drive/MyDrive/ERA_data_new.csv\")\n",
        "df.head()"
      ],
      "execution_count": null,
      "outputs": [
        {
          "output_type": "stream",
          "text": [
            "/usr/local/lib/python3.7/dist-packages/IPython/core/interactiveshell.py:2718: DtypeWarning: Columns (13,14) have mixed types.Specify dtype option on import or set low_memory=False.\n",
            "  interactivity=interactivity, compiler=compiler, result=result)\n"
          ],
          "name": "stderr"
        },
        {
          "output_type": "execute_result",
          "data": {
            "text/html": [
              "<div>\n",
              "<style scoped>\n",
              "    .dataframe tbody tr th:only-of-type {\n",
              "        vertical-align: middle;\n",
              "    }\n",
              "\n",
              "    .dataframe tbody tr th {\n",
              "        vertical-align: top;\n",
              "    }\n",
              "\n",
              "    .dataframe thead th {\n",
              "        text-align: right;\n",
              "    }\n",
              "</style>\n",
              "<table border=\"1\" class=\"dataframe\">\n",
              "  <thead>\n",
              "    <tr style=\"text-align: right;\">\n",
              "      <th></th>\n",
              "      <th>id</th>\n",
              "      <th>ConcertId</th>\n",
              "      <th>OrganizerId</th>\n",
              "      <th>Name_organizer</th>\n",
              "      <th>ConcertName</th>\n",
              "      <th>Venue</th>\n",
              "      <th>ReleaseDate</th>\n",
              "      <th>ReleaseTime</th>\n",
              "      <th>SoldDate</th>\n",
              "      <th>SoldTime</th>\n",
              "      <th>StartSaleDate</th>\n",
              "      <th>ListPrice</th>\n",
              "      <th>SoldPrice</th>\n",
              "      <th>SeatRow</th>\n",
              "      <th>SeatColumn</th>\n",
              "      <th>VenueArea</th>\n",
              "      <th>TotalSeat</th>\n",
              "      <th>Sex</th>\n",
              "      <th>Holiday</th>\n",
              "      <th>Summer_vacation</th>\n",
              "      <th>Winter_vacation</th>\n",
              "      <th>Chinese_performer</th>\n",
              "      <th>NortheastAsian_performer</th>\n",
              "      <th>Western_performer</th>\n",
              "      <th>Individual_performer</th>\n",
              "      <th>Team_performer</th>\n",
              "      <th>Multi_performer</th>\n",
              "    </tr>\n",
              "  </thead>\n",
              "  <tbody>\n",
              "    <tr>\n",
              "      <th>0</th>\n",
              "      <td>16296_2015_06-06_19_30</td>\n",
              "      <td>16296</td>\n",
              "      <td>40373</td>\n",
              "      <td>探索傳播事業(股)公司</td>\n",
              "      <td>2015李翊君_夢想.情歌.演唱會</td>\n",
              "      <td>台北國際會議中心大會堂</td>\n",
              "      <td>2015-06-06</td>\n",
              "      <td>19:30</td>\n",
              "      <td>2015-01-29</td>\n",
              "      <td>09:58</td>\n",
              "      <td>2015-01-21</td>\n",
              "      <td>1400</td>\n",
              "      <td>10</td>\n",
              "      <td>055</td>\n",
              "      <td>25</td>\n",
              "      <td>北北基</td>\n",
              "      <td>3044</td>\n",
              "      <td>F</td>\n",
              "      <td>0</td>\n",
              "      <td>0</td>\n",
              "      <td>0</td>\n",
              "      <td>1.0</td>\n",
              "      <td>0.0</td>\n",
              "      <td>0.0</td>\n",
              "      <td>1.0</td>\n",
              "      <td>0.0</td>\n",
              "      <td>0.0</td>\n",
              "    </tr>\n",
              "    <tr>\n",
              "      <th>1</th>\n",
              "      <td>16296_2015_06-06_19_30</td>\n",
              "      <td>16296</td>\n",
              "      <td>40373</td>\n",
              "      <td>探索傳播事業(股)公司</td>\n",
              "      <td>2015李翊君_夢想.情歌.演唱會</td>\n",
              "      <td>台北國際會議中心大會堂</td>\n",
              "      <td>2015-06-06</td>\n",
              "      <td>19:30</td>\n",
              "      <td>2015-01-29</td>\n",
              "      <td>09:58</td>\n",
              "      <td>2015-01-21</td>\n",
              "      <td>1400</td>\n",
              "      <td>10</td>\n",
              "      <td>055</td>\n",
              "      <td>23</td>\n",
              "      <td>北北基</td>\n",
              "      <td>3044</td>\n",
              "      <td>F</td>\n",
              "      <td>0</td>\n",
              "      <td>0</td>\n",
              "      <td>0</td>\n",
              "      <td>1.0</td>\n",
              "      <td>0.0</td>\n",
              "      <td>0.0</td>\n",
              "      <td>1.0</td>\n",
              "      <td>0.0</td>\n",
              "      <td>0.0</td>\n",
              "    </tr>\n",
              "    <tr>\n",
              "      <th>2</th>\n",
              "      <td>16296_2015_06-06_19_30</td>\n",
              "      <td>16296</td>\n",
              "      <td>40373</td>\n",
              "      <td>探索傳播事業(股)公司</td>\n",
              "      <td>2015李翊君_夢想.情歌.演唱會</td>\n",
              "      <td>台北國際會議中心大會堂</td>\n",
              "      <td>2015-06-06</td>\n",
              "      <td>19:30</td>\n",
              "      <td>2015-01-29</td>\n",
              "      <td>09:58</td>\n",
              "      <td>2015-01-21</td>\n",
              "      <td>1400</td>\n",
              "      <td>10</td>\n",
              "      <td>055</td>\n",
              "      <td>21</td>\n",
              "      <td>北北基</td>\n",
              "      <td>3044</td>\n",
              "      <td>F</td>\n",
              "      <td>0</td>\n",
              "      <td>0</td>\n",
              "      <td>0</td>\n",
              "      <td>1.0</td>\n",
              "      <td>0.0</td>\n",
              "      <td>0.0</td>\n",
              "      <td>1.0</td>\n",
              "      <td>0.0</td>\n",
              "      <td>0.0</td>\n",
              "    </tr>\n",
              "    <tr>\n",
              "      <th>3</th>\n",
              "      <td>16296_2015_06-06_19_30</td>\n",
              "      <td>16296</td>\n",
              "      <td>40373</td>\n",
              "      <td>探索傳播事業(股)公司</td>\n",
              "      <td>2015李翊君_夢想.情歌.演唱會</td>\n",
              "      <td>台北國際會議中心大會堂</td>\n",
              "      <td>2015-06-06</td>\n",
              "      <td>19:30</td>\n",
              "      <td>2015-01-29</td>\n",
              "      <td>09:58</td>\n",
              "      <td>2015-01-21</td>\n",
              "      <td>1400</td>\n",
              "      <td>10</td>\n",
              "      <td>055</td>\n",
              "      <td>19</td>\n",
              "      <td>北北基</td>\n",
              "      <td>3044</td>\n",
              "      <td>F</td>\n",
              "      <td>0</td>\n",
              "      <td>0</td>\n",
              "      <td>0</td>\n",
              "      <td>1.0</td>\n",
              "      <td>0.0</td>\n",
              "      <td>0.0</td>\n",
              "      <td>1.0</td>\n",
              "      <td>0.0</td>\n",
              "      <td>0.0</td>\n",
              "    </tr>\n",
              "    <tr>\n",
              "      <th>4</th>\n",
              "      <td>16296_2015_06-06_19_30</td>\n",
              "      <td>16296</td>\n",
              "      <td>40373</td>\n",
              "      <td>探索傳播事業(股)公司</td>\n",
              "      <td>2015李翊君_夢想.情歌.演唱會</td>\n",
              "      <td>台北國際會議中心大會堂</td>\n",
              "      <td>2015-06-06</td>\n",
              "      <td>19:30</td>\n",
              "      <td>2015-01-29</td>\n",
              "      <td>10:00</td>\n",
              "      <td>2015-01-21</td>\n",
              "      <td>1400</td>\n",
              "      <td>10</td>\n",
              "      <td>055</td>\n",
              "      <td>12</td>\n",
              "      <td>北北基</td>\n",
              "      <td>3044</td>\n",
              "      <td>F</td>\n",
              "      <td>0</td>\n",
              "      <td>0</td>\n",
              "      <td>0</td>\n",
              "      <td>1.0</td>\n",
              "      <td>0.0</td>\n",
              "      <td>0.0</td>\n",
              "      <td>1.0</td>\n",
              "      <td>0.0</td>\n",
              "      <td>0.0</td>\n",
              "    </tr>\n",
              "  </tbody>\n",
              "</table>\n",
              "</div>"
            ],
            "text/plain": [
              "                       id  ConcertId  ...  Team_performer Multi_performer\n",
              "0  16296_2015_06-06_19_30      16296  ...             0.0             0.0\n",
              "1  16296_2015_06-06_19_30      16296  ...             0.0             0.0\n",
              "2  16296_2015_06-06_19_30      16296  ...             0.0             0.0\n",
              "3  16296_2015_06-06_19_30      16296  ...             0.0             0.0\n",
              "4  16296_2015_06-06_19_30      16296  ...             0.0             0.0\n",
              "\n",
              "[5 rows x 27 columns]"
            ]
          },
          "metadata": {
            "tags": []
          },
          "execution_count": 54
        }
      ]
    },
    {
      "cell_type": "code",
      "metadata": {
        "colab": {
          "base_uri": "https://localhost:8080/"
        },
        "id": "Dfc7PIYb0bXh",
        "outputId": "7d88b0f2-6216-4e77-b85c-a466d5362b61"
      },
      "source": [
        "a=df.groupby(['ConcertId','ReleaseDate','VenueArea','TotalSeat',\n",
        "              'Holiday','Summer_vacation','Winter_vacation',\n",
        "              'Chinese_performer','NortheastAsian_performer','Western_performer',\n",
        "              'Individual_performer','Team_performer','Multi_performer']).size().reset_index().rename(columns={0:'Count'})\n",
        "dups=a[a.duplicated(['ConcertId'],keep=False)]\n",
        "dups.shape"
      ],
      "execution_count": null,
      "outputs": [
        {
          "output_type": "execute_result",
          "data": {
            "text/plain": [
              "(80, 14)"
            ]
          },
          "metadata": {
            "tags": []
          },
          "execution_count": 55
        }
      ]
    },
    {
      "cell_type": "code",
      "metadata": {
        "id": "NtxmYpP5T8NQ"
      },
      "source": [
        "a[\"Month\"] = pd.DatetimeIndex(a[\"ReleaseDate\"]).month"
      ],
      "execution_count": null,
      "outputs": []
    },
    {
      "cell_type": "code",
      "metadata": {
        "id": "w21YTkND8Ur0"
      },
      "source": [
        "month = {\"Month\": {1:\"Jan\", 2:\"Feb\", 3:\"Mar\", 4:\"Apr\", 5:\"May\", 6:\"Jun\", 7:\"Jul\", 8:\"Aug\", 9:\"Sep\", 10:\"Oct\", 11:\"Nov\", 12:\"Dec\"}}\n",
        "#a = a.replace(month)\n",
        "#a.groupby(a['Month']).size()"
      ],
      "execution_count": null,
      "outputs": []
    },
    {
      "cell_type": "code",
      "metadata": {
        "colab": {
          "base_uri": "https://localhost:8080/"
        },
        "id": "ULwXLCfLAHMq",
        "outputId": "d44af0f2-3d18-40b8-ee6d-2ff3b7f31066"
      },
      "source": [
        "#a.groupby(a['Month']).size()"
      ],
      "execution_count": null,
      "outputs": [
        {
          "output_type": "execute_result",
          "data": {
            "text/plain": [
              "Month\n",
              "Apr    11\n",
              "Aug    12\n",
              "Dec    27\n",
              "Feb     3\n",
              "Jan     8\n",
              "Jul    12\n",
              "Jun    21\n",
              "Mar     6\n",
              "May    26\n",
              "Nov    27\n",
              "Oct    14\n",
              "Sep     9\n",
              "dtype: int64"
            ]
          },
          "metadata": {
            "tags": []
          },
          "execution_count": 53
        }
      ]
    },
    {
      "cell_type": "code",
      "metadata": {
        "colab": {
          "base_uri": "https://localhost:8080/"
        },
        "id": "wBGnamZB3pa4",
        "outputId": "805f317c-7c38-4a01-882f-a77ec8e50d5e"
      },
      "source": [
        "a.shape"
      ],
      "execution_count": null,
      "outputs": [
        {
          "output_type": "execute_result",
          "data": {
            "text/plain": [
              "(176, 15)"
            ]
          },
          "metadata": {
            "tags": []
          },
          "execution_count": 9
        }
      ]
    },
    {
      "cell_type": "code",
      "metadata": {
        "colab": {
          "base_uri": "https://localhost:8080/",
          "height": 439
        },
        "id": "EG1gdJbe24UM",
        "outputId": "fde43ca8-a7d9-46c6-f643-ea7899426515"
      },
      "source": [
        "a"
      ],
      "execution_count": null,
      "outputs": [
        {
          "output_type": "execute_result",
          "data": {
            "text/html": [
              "<div>\n",
              "<style scoped>\n",
              "    .dataframe tbody tr th:only-of-type {\n",
              "        vertical-align: middle;\n",
              "    }\n",
              "\n",
              "    .dataframe tbody tr th {\n",
              "        vertical-align: top;\n",
              "    }\n",
              "\n",
              "    .dataframe thead th {\n",
              "        text-align: right;\n",
              "    }\n",
              "</style>\n",
              "<table border=\"1\" class=\"dataframe\">\n",
              "  <thead>\n",
              "    <tr style=\"text-align: right;\">\n",
              "      <th></th>\n",
              "      <th>ConcertId</th>\n",
              "      <th>ReleaseDate</th>\n",
              "      <th>VenueArea</th>\n",
              "      <th>TotalSeat</th>\n",
              "      <th>Holiday</th>\n",
              "      <th>Summer_vacation</th>\n",
              "      <th>Winter_vacation</th>\n",
              "      <th>Chinese_performer</th>\n",
              "      <th>NortheastAsian_performer</th>\n",
              "      <th>Western_performer</th>\n",
              "      <th>Individual_performer</th>\n",
              "      <th>Team_performer</th>\n",
              "      <th>Multi_performer</th>\n",
              "      <th>Count</th>\n",
              "      <th>Month</th>\n",
              "    </tr>\n",
              "  </thead>\n",
              "  <tbody>\n",
              "    <tr>\n",
              "      <th>0</th>\n",
              "      <td>16258</td>\n",
              "      <td>2015-06-19</td>\n",
              "      <td>北北基</td>\n",
              "      <td>2541</td>\n",
              "      <td>1</td>\n",
              "      <td>0</td>\n",
              "      <td>0</td>\n",
              "      <td>1.0</td>\n",
              "      <td>0.0</td>\n",
              "      <td>0.0</td>\n",
              "      <td>1.0</td>\n",
              "      <td>0.0</td>\n",
              "      <td>0.0</td>\n",
              "      <td>1892</td>\n",
              "      <td>Jun</td>\n",
              "    </tr>\n",
              "    <tr>\n",
              "      <th>1</th>\n",
              "      <td>16260</td>\n",
              "      <td>2015-02-28</td>\n",
              "      <td>北北基</td>\n",
              "      <td>789</td>\n",
              "      <td>1</td>\n",
              "      <td>0</td>\n",
              "      <td>0</td>\n",
              "      <td>0.0</td>\n",
              "      <td>1.0</td>\n",
              "      <td>0.0</td>\n",
              "      <td>1.0</td>\n",
              "      <td>0.0</td>\n",
              "      <td>0.0</td>\n",
              "      <td>524</td>\n",
              "      <td>Feb</td>\n",
              "    </tr>\n",
              "    <tr>\n",
              "      <th>2</th>\n",
              "      <td>16289</td>\n",
              "      <td>2015-03-18</td>\n",
              "      <td>北北基</td>\n",
              "      <td>2054</td>\n",
              "      <td>0</td>\n",
              "      <td>0</td>\n",
              "      <td>0</td>\n",
              "      <td>0.0</td>\n",
              "      <td>0.0</td>\n",
              "      <td>1.0</td>\n",
              "      <td>1.0</td>\n",
              "      <td>0.0</td>\n",
              "      <td>0.0</td>\n",
              "      <td>1658</td>\n",
              "      <td>Mar</td>\n",
              "    </tr>\n",
              "    <tr>\n",
              "      <th>3</th>\n",
              "      <td>16296</td>\n",
              "      <td>2015-06-06</td>\n",
              "      <td>北北基</td>\n",
              "      <td>3044</td>\n",
              "      <td>0</td>\n",
              "      <td>0</td>\n",
              "      <td>0</td>\n",
              "      <td>1.0</td>\n",
              "      <td>0.0</td>\n",
              "      <td>0.0</td>\n",
              "      <td>1.0</td>\n",
              "      <td>0.0</td>\n",
              "      <td>0.0</td>\n",
              "      <td>3039</td>\n",
              "      <td>Jun</td>\n",
              "    </tr>\n",
              "    <tr>\n",
              "      <th>4</th>\n",
              "      <td>16296</td>\n",
              "      <td>2015-06-07</td>\n",
              "      <td>北北基</td>\n",
              "      <td>3044</td>\n",
              "      <td>0</td>\n",
              "      <td>0</td>\n",
              "      <td>0</td>\n",
              "      <td>1.0</td>\n",
              "      <td>0.0</td>\n",
              "      <td>0.0</td>\n",
              "      <td>1.0</td>\n",
              "      <td>0.0</td>\n",
              "      <td>0.0</td>\n",
              "      <td>3018</td>\n",
              "      <td>Jun</td>\n",
              "    </tr>\n",
              "    <tr>\n",
              "      <th>...</th>\n",
              "      <td>...</td>\n",
              "      <td>...</td>\n",
              "      <td>...</td>\n",
              "      <td>...</td>\n",
              "      <td>...</td>\n",
              "      <td>...</td>\n",
              "      <td>...</td>\n",
              "      <td>...</td>\n",
              "      <td>...</td>\n",
              "      <td>...</td>\n",
              "      <td>...</td>\n",
              "      <td>...</td>\n",
              "      <td>...</td>\n",
              "      <td>...</td>\n",
              "      <td>...</td>\n",
              "    </tr>\n",
              "    <tr>\n",
              "      <th>171</th>\n",
              "      <td>18623</td>\n",
              "      <td>2017-12-09</td>\n",
              "      <td>桃竹苗</td>\n",
              "      <td>1293</td>\n",
              "      <td>0</td>\n",
              "      <td>0</td>\n",
              "      <td>0</td>\n",
              "      <td>1.0</td>\n",
              "      <td>0.0</td>\n",
              "      <td>0.0</td>\n",
              "      <td>1.0</td>\n",
              "      <td>0.0</td>\n",
              "      <td>0.0</td>\n",
              "      <td>1039</td>\n",
              "      <td>Dec</td>\n",
              "    </tr>\n",
              "    <tr>\n",
              "      <th>172</th>\n",
              "      <td>18623</td>\n",
              "      <td>2017-12-23</td>\n",
              "      <td>雲嘉南</td>\n",
              "      <td>932</td>\n",
              "      <td>0</td>\n",
              "      <td>0</td>\n",
              "      <td>0</td>\n",
              "      <td>1.0</td>\n",
              "      <td>0.0</td>\n",
              "      <td>0.0</td>\n",
              "      <td>1.0</td>\n",
              "      <td>0.0</td>\n",
              "      <td>0.0</td>\n",
              "      <td>689</td>\n",
              "      <td>Dec</td>\n",
              "    </tr>\n",
              "    <tr>\n",
              "      <th>173</th>\n",
              "      <td>18623</td>\n",
              "      <td>2017-12-24</td>\n",
              "      <td>雲嘉南</td>\n",
              "      <td>932</td>\n",
              "      <td>0</td>\n",
              "      <td>0</td>\n",
              "      <td>0</td>\n",
              "      <td>1.0</td>\n",
              "      <td>0.0</td>\n",
              "      <td>0.0</td>\n",
              "      <td>1.0</td>\n",
              "      <td>0.0</td>\n",
              "      <td>0.0</td>\n",
              "      <td>817</td>\n",
              "      <td>Dec</td>\n",
              "    </tr>\n",
              "    <tr>\n",
              "      <th>174</th>\n",
              "      <td>18631</td>\n",
              "      <td>2017-12-30</td>\n",
              "      <td>北北基</td>\n",
              "      <td>3165</td>\n",
              "      <td>1</td>\n",
              "      <td>0</td>\n",
              "      <td>0</td>\n",
              "      <td>1.0</td>\n",
              "      <td>0.0</td>\n",
              "      <td>0.0</td>\n",
              "      <td>1.0</td>\n",
              "      <td>0.0</td>\n",
              "      <td>0.0</td>\n",
              "      <td>2957</td>\n",
              "      <td>Dec</td>\n",
              "    </tr>\n",
              "    <tr>\n",
              "      <th>175</th>\n",
              "      <td>18631</td>\n",
              "      <td>2017-12-31</td>\n",
              "      <td>北北基</td>\n",
              "      <td>3165</td>\n",
              "      <td>1</td>\n",
              "      <td>0</td>\n",
              "      <td>0</td>\n",
              "      <td>1.0</td>\n",
              "      <td>0.0</td>\n",
              "      <td>0.0</td>\n",
              "      <td>1.0</td>\n",
              "      <td>0.0</td>\n",
              "      <td>0.0</td>\n",
              "      <td>3021</td>\n",
              "      <td>Dec</td>\n",
              "    </tr>\n",
              "  </tbody>\n",
              "</table>\n",
              "<p>176 rows × 15 columns</p>\n",
              "</div>"
            ],
            "text/plain": [
              "     ConcertId ReleaseDate VenueArea  ...  Multi_performer  Count  Month\n",
              "0        16258  2015-06-19       北北基  ...              0.0   1892    Jun\n",
              "1        16260  2015-02-28       北北基  ...              0.0    524    Feb\n",
              "2        16289  2015-03-18       北北基  ...              0.0   1658    Mar\n",
              "3        16296  2015-06-06       北北基  ...              0.0   3039    Jun\n",
              "4        16296  2015-06-07       北北基  ...              0.0   3018    Jun\n",
              "..         ...         ...       ...  ...              ...    ...    ...\n",
              "171      18623  2017-12-09       桃竹苗  ...              0.0   1039    Dec\n",
              "172      18623  2017-12-23       雲嘉南  ...              0.0    689    Dec\n",
              "173      18623  2017-12-24       雲嘉南  ...              0.0    817    Dec\n",
              "174      18631  2017-12-30       北北基  ...              0.0   2957    Dec\n",
              "175      18631  2017-12-31       北北基  ...              0.0   3021    Dec\n",
              "\n",
              "[176 rows x 15 columns]"
            ]
          },
          "metadata": {
            "tags": []
          },
          "execution_count": 17
        }
      ]
    },
    {
      "cell_type": "code",
      "metadata": {
        "colab": {
          "base_uri": "https://localhost:8080/",
          "height": 312
        },
        "id": "Prdm6yBE_WEw",
        "outputId": "68e45747-7849-441c-86ed-de03a5e7645b"
      },
      "source": [
        "ax = a['Month'].hist()\n",
        "ax.set_xlabel('Month')\n",
        "ax.set_ylabel('Count')\n",
        "ax.set_title('Number of concerts per month')"
      ],
      "execution_count": null,
      "outputs": [
        {
          "output_type": "execute_result",
          "data": {
            "text/plain": [
              "Text(0.5, 1.0, 'Number of concerts per month')"
            ]
          },
          "metadata": {
            "tags": []
          },
          "execution_count": 57
        },
        {
          "output_type": "display_data",
          "data": {
            "image/png": "[encoded data removed]",
            "text/plain": [
              "<Figure size 432x288 with 1 Axes>"
            ]
          },
          "metadata": {
            "tags": [],
            "needs_background": "light"
          }
        }
      ]
    },
    {
      "cell_type": "code",
      "metadata": {
        "colab": {
          "base_uri": "https://localhost:8080/",
          "height": 282
        },
        "id": "nRaxOG1O7iKF",
        "outputId": "31d6bd36-d380-4260-fa94-e9d4311227fd"
      },
      "source": [
        "plt.bar(a[\"Month\"], len(a))"
      ],
      "execution_count": null,
      "outputs": [
        {
          "output_type": "execute_result",
          "data": {
            "text/plain": [
              "<BarContainer object of 176 artists>"
            ]
          },
          "metadata": {
            "tags": []
          },
          "execution_count": 19
        },
        {
          "output_type": "display_data",
          "data": {
            "image/png": "[encoded data removed]",
            "text/plain": [
              "<Figure size 432x288 with 1 Axes>"
            ]
          },
          "metadata": {
            "tags": [],
            "needs_background": "light"
          }
        }
      ]
    },
    {
      "cell_type": "code",
      "metadata": {
        "id": "iz1Qs79AIjx-"
      },
      "source": [
        "area = {\"VenueArea\": {'北北基':\"Beibeiji\", '中彰投':\"Zhongzhangtou\", '高屏':\"Gaoping\", '桃竹苗':\"Taozhumiao\", '雲嘉南':\"Yunjianan\", '花東_外島':\"Huadong\"}}\n",
        "a = a.replace(area)"
      ],
      "execution_count": null,
      "outputs": []
    },
    {
      "cell_type": "code",
      "metadata": {
        "colab": {
          "base_uri": "https://localhost:8080/",
          "height": 301
        },
        "id": "QSluT541Dr7O",
        "outputId": "7a311e1f-984d-4418-b3f5-5087d1c42d39"
      },
      "source": [
        "ax = a[\"VenueArea\"].hist()\n",
        "#ax.set_xlabel('VenueArea')\n",
        "ax.set_ylabel('Count')\n",
        "ax.set_title('Number of concerts by different Venuearea')"
      ],
      "execution_count": null,
      "outputs": [
        {
          "output_type": "execute_result",
          "data": {
            "text/plain": [
              "Text(0.5, 1.0, 'Number of concerts by different Venuearea')"
            ]
          },
          "metadata": {
            "tags": []
          },
          "execution_count": 25
        },
        {
          "output_type": "display_data",
          "data": {
            "image/png": "[encoded data removed]",
            "text/plain": [
              "<Figure size 432x288 with 1 Axes>"
            ]
          },
          "metadata": {
            "tags": []
          }
        }
      ]
    },
    {
      "cell_type": "code",
      "metadata": {
        "colab": {
          "base_uri": "https://localhost:8080/",
          "height": 352
        },
        "id": "Y4OIY_b1JnrA",
        "outputId": "74d993c1-e49b-4eb7-c99c-0d68211c6d86"
      },
      "source": [
        "sns.set(style=\"whitegrid\")\n",
        "ax = sns.boxplot(x = a['TotalSeat'], orient = \"v\", color = \"skyblue\", width=0.2)  # 畫盒圖\n",
        "ax.set_title('Distribution of concert seats')\n",
        "#ax = sns.swarmplot(x = a['TotalSeat'], orient = \"v\", color = \"red\")   # 加上資料點"
      ],
      "execution_count": null,
      "outputs": [
        {
          "output_type": "stream",
          "text": [
            "/usr/local/lib/python3.7/dist-packages/seaborn/_core.py:1319: UserWarning: Vertical orientation ignored with only `x` specified.\n",
            "  warnings.warn(single_var_warning.format(\"Vertical\", \"x\"))\n"
          ],
          "name": "stderr"
        },
        {
          "output_type": "execute_result",
          "data": {
            "text/plain": [
              "Text(0.5, 1.0, 'Distribution of concert seats')"
            ]
          },
          "metadata": {
            "tags": []
          },
          "execution_count": 27
        },
        {
          "output_type": "display_data",
          "data": {
            "image/png": "[encoded data removed]",
            "text/plain": [
              "<Figure size 432x288 with 1 Axes>"
            ]
          },
          "metadata": {
            "tags": []
          }
        }
      ]
    },
    {
      "cell_type": "code",
      "metadata": {
        "id": "5hmE0GmHQcWP"
      },
      "source": [
        "holiday = a[['Holiday', 'Summer_vacation', 'Winter_vacation']]\n",
        "nation = a[['Chinese_performer', 'NortheastAsian_performer', 'Western_performer']]\n",
        "number_of_performers = a[['Individual_performer', 'Team_performer','Multi_performer']]"
      ],
      "execution_count": null,
      "outputs": []
    },
    {
      "cell_type": "code",
      "metadata": {
        "id": "odGPIJPx_WZU"
      },
      "source": [
        "holiday['temp']=holiday.eq(1).idxmax(1)\n",
        "nation['temp']=nation.eq(1).idxmax(1)\n",
        "number_of_performers['temp']=number_of_performers.eq(1).idxmax(1)\n"
      ],
      "execution_count": null,
      "outputs": []
    },
    {
      "cell_type": "code",
      "metadata": {
        "colab": {
          "base_uri": "https://localhost:8080/",
          "height": 419
        },
        "id": "sRMccLknTNPN",
        "outputId": "dc1a9266-04a6-47e0-d870-40b654c9257b"
      },
      "source": [
        "number_of_performers"
      ],
      "execution_count": null,
      "outputs": [
        {
          "output_type": "execute_result",
          "data": {
            "text/html": [
              "<div>\n",
              "<style scoped>\n",
              "    .dataframe tbody tr th:only-of-type {\n",
              "        vertical-align: middle;\n",
              "    }\n",
              "\n",
              "    .dataframe tbody tr th {\n",
              "        vertical-align: top;\n",
              "    }\n",
              "\n",
              "    .dataframe thead th {\n",
              "        text-align: right;\n",
              "    }\n",
              "</style>\n",
              "<table border=\"1\" class=\"dataframe\">\n",
              "  <thead>\n",
              "    <tr style=\"text-align: right;\">\n",
              "      <th></th>\n",
              "      <th>Individual_performer</th>\n",
              "      <th>Team_performer</th>\n",
              "      <th>Multi_performer</th>\n",
              "      <th>temp</th>\n",
              "    </tr>\n",
              "  </thead>\n",
              "  <tbody>\n",
              "    <tr>\n",
              "      <th>0</th>\n",
              "      <td>1.0</td>\n",
              "      <td>0.0</td>\n",
              "      <td>0.0</td>\n",
              "      <td>Individual_performer</td>\n",
              "    </tr>\n",
              "    <tr>\n",
              "      <th>1</th>\n",
              "      <td>1.0</td>\n",
              "      <td>0.0</td>\n",
              "      <td>0.0</td>\n",
              "      <td>Individual_performer</td>\n",
              "    </tr>\n",
              "    <tr>\n",
              "      <th>2</th>\n",
              "      <td>1.0</td>\n",
              "      <td>0.0</td>\n",
              "      <td>0.0</td>\n",
              "      <td>Individual_performer</td>\n",
              "    </tr>\n",
              "    <tr>\n",
              "      <th>3</th>\n",
              "      <td>1.0</td>\n",
              "      <td>0.0</td>\n",
              "      <td>0.0</td>\n",
              "      <td>Individual_performer</td>\n",
              "    </tr>\n",
              "    <tr>\n",
              "      <th>4</th>\n",
              "      <td>1.0</td>\n",
              "      <td>0.0</td>\n",
              "      <td>0.0</td>\n",
              "      <td>Individual_performer</td>\n",
              "    </tr>\n",
              "    <tr>\n",
              "      <th>...</th>\n",
              "      <td>...</td>\n",
              "      <td>...</td>\n",
              "      <td>...</td>\n",
              "      <td>...</td>\n",
              "    </tr>\n",
              "    <tr>\n",
              "      <th>171</th>\n",
              "      <td>1.0</td>\n",
              "      <td>0.0</td>\n",
              "      <td>0.0</td>\n",
              "      <td>Individual_performer</td>\n",
              "    </tr>\n",
              "    <tr>\n",
              "      <th>172</th>\n",
              "      <td>1.0</td>\n",
              "      <td>0.0</td>\n",
              "      <td>0.0</td>\n",
              "      <td>Individual_performer</td>\n",
              "    </tr>\n",
              "    <tr>\n",
              "      <th>173</th>\n",
              "      <td>1.0</td>\n",
              "      <td>0.0</td>\n",
              "      <td>0.0</td>\n",
              "      <td>Individual_performer</td>\n",
              "    </tr>\n",
              "    <tr>\n",
              "      <th>174</th>\n",
              "      <td>1.0</td>\n",
              "      <td>0.0</td>\n",
              "      <td>0.0</td>\n",
              "      <td>Individual_performer</td>\n",
              "    </tr>\n",
              "    <tr>\n",
              "      <th>175</th>\n",
              "      <td>1.0</td>\n",
              "      <td>0.0</td>\n",
              "      <td>0.0</td>\n",
              "      <td>Individual_performer</td>\n",
              "    </tr>\n",
              "  </tbody>\n",
              "</table>\n",
              "<p>176 rows × 4 columns</p>\n",
              "</div>"
            ],
            "text/plain": [
              "     Individual_performer  ...                  temp\n",
              "0                     1.0  ...  Individual_performer\n",
              "1                     1.0  ...  Individual_performer\n",
              "2                     1.0  ...  Individual_performer\n",
              "3                     1.0  ...  Individual_performer\n",
              "4                     1.0  ...  Individual_performer\n",
              "..                    ...  ...                   ...\n",
              "171                   1.0  ...  Individual_performer\n",
              "172                   1.0  ...  Individual_performer\n",
              "173                   1.0  ...  Individual_performer\n",
              "174                   1.0  ...  Individual_performer\n",
              "175                   1.0  ...  Individual_performer\n",
              "\n",
              "[176 rows x 4 columns]"
            ]
          },
          "metadata": {
            "tags": []
          },
          "execution_count": 113
        }
      ]
    },
    {
      "cell_type": "code",
      "metadata": {
        "colab": {
          "base_uri": "https://localhost:8080/"
        },
        "id": "RI_zGHLvQO_D",
        "outputId": "95088ac7-f286-4aa9-cb84-5f4af0124fb0"
      },
      "source": [
        "a['Holiday'].value_counts()"
      ],
      "execution_count": null,
      "outputs": [
        {
          "output_type": "execute_result",
          "data": {
            "text/plain": [
              "0    156\n",
              "1     20\n",
              "Name: Holiday, dtype: int64"
            ]
          },
          "metadata": {
            "tags": []
          },
          "execution_count": 99
        }
      ]
    },
    {
      "cell_type": "code",
      "metadata": {
        "colab": {
          "base_uri": "https://localhost:8080/",
          "height": 302
        },
        "id": "53PK8vZWP2sv",
        "outputId": "321f2d2f-5cc1-4e98-8803-ece60b05357d"
      },
      "source": [
        "ax = holiday[\"temp\"].hist()\n",
        "#ax.set_xlabel('Class')\n",
        "ax.set_ylabel('Count')\n",
        "ax.set_title('Number of concerts')"
      ],
      "execution_count": null,
      "outputs": [
        {
          "output_type": "execute_result",
          "data": {
            "text/plain": [
              "Text(0.5, 1.0, 'Number of concerts')"
            ]
          },
          "metadata": {
            "tags": []
          },
          "execution_count": 16
        },
        {
          "output_type": "display_data",
          "data": {
            "image/png": "[encoded data removed]",
            "text/plain": [
              "<Figure size 432x288 with 1 Axes>"
            ]
          },
          "metadata": {
            "tags": []
          }
        }
      ]
    },
    {
      "cell_type": "code",
      "metadata": {
        "colab": {
          "base_uri": "https://localhost:8080/",
          "height": 302
        },
        "id": "uUFJUMtKS_Xl",
        "outputId": "85d5f9d2-af7a-4ae2-f55e-fd81e1dfc3d9"
      },
      "source": [
        "ax = nation[\"temp\"].hist()\n",
        "#ax.set_xlabel('Class')\n",
        "ax.set_ylabel('Count')\n",
        "ax.set_title('Number of concerts')"
      ],
      "execution_count": null,
      "outputs": [
        {
          "output_type": "execute_result",
          "data": {
            "text/plain": [
              "Text(0.5, 1.0, 'Number of concerts')"
            ]
          },
          "metadata": {
            "tags": []
          },
          "execution_count": 17
        },
        {
          "output_type": "display_data",
          "data": {
            "image/png": "[encoded data removed]",
            "text/plain": [
              "<Figure size 432x288 with 1 Axes>"
            ]
          },
          "metadata": {
            "tags": []
          }
        }
      ]
    },
    {
      "cell_type": "code",
      "metadata": {
        "colab": {
          "base_uri": "https://localhost:8080/",
          "height": 302
        },
        "id": "kVZ2cz3mS_9y",
        "outputId": "892b0ab7-a18e-49f2-f80a-d13b67172127"
      },
      "source": [
        "ax = number_of_performers[\"temp\"].hist()\n",
        "#ax.set_xlabel('Class')\n",
        "ax.set_ylabel('Count')\n",
        "ax.set_title('Number of concerts')"
      ],
      "execution_count": null,
      "outputs": [
        {
          "output_type": "execute_result",
          "data": {
            "text/plain": [
              "Text(0.5, 1.0, 'Number of concerts')"
            ]
          },
          "metadata": {
            "tags": []
          },
          "execution_count": 18
        },
        {
          "output_type": "display_data",
          "data": {
            "image/png": "[encoded data removed]",
            "text/plain": [
              "<Figure size 432x288 with 1 Axes>"
            ]
          },
          "metadata": {
            "tags": []
          }
        }
      ]
    },
    {
      "cell_type": "code",
      "metadata": {
        "id": "by642rajwLw1"
      },
      "source": [
        "df = df.drop(columns = [\"id\", \"OrganizerId\", \"Name_organizer\", \"SeatRow\",\"SeatColumn\",\"Chinese_performer\",\"Western_performer\",\n",
        "                        \"Individual_performer\",\"Team_performer\",\"Multi_performer\", \"NortheastAsian_performer\"])\n",
        "\n",
        "gender = {\"Sex\": {\"F\": 0, \"M\": 1}}\n",
        "area = {\"VenueArea\": {\"北北基\": 1, \"中彰投\": 2, \"高屏\": 3, \"桃竹苗\": 4, \"雲嘉南\": 5, \"花東_外島\": 6}}\n",
        "\n",
        "df = df.replace(gender)\n",
        "df = df.replace(area)\n",
        "\n",
        "df['ReleaseDateTime'] = pd.to_datetime(df['ReleaseDate'] + ' ' + df['ReleaseTime'])\n",
        "df['SoldDateTime'] = pd.to_datetime(df['SoldDate'] + ' ' + df['SoldTime'])\n",
        "\n",
        "df = df.drop(columns = [\"ReleaseDate\", \"ReleaseTime\", \"SoldDate\", \"SoldTime\"])\n",
        "\n",
        "#df = pd.get_dummies(df, columns = ['VenueArea'])\n"
      ],
      "execution_count": null,
      "outputs": []
    },
    {
      "cell_type": "code",
      "metadata": {
        "colab": {
          "base_uri": "https://localhost:8080/",
          "height": 479
        },
        "id": "IrcKoGTScVxv",
        "outputId": "6fe89e62-7d72-4b71-98d3-4d27cd9b100a"
      },
      "source": [
        "df.head()"
      ],
      "execution_count": null,
      "outputs": [
        {
          "output_type": "execute_result",
          "data": {
            "text/html": [
              "<div>\n",
              "<style scoped>\n",
              "    .dataframe tbody tr th:only-of-type {\n",
              "        vertical-align: middle;\n",
              "    }\n",
              "\n",
              "    .dataframe tbody tr th {\n",
              "        vertical-align: top;\n",
              "    }\n",
              "\n",
              "    .dataframe thead th {\n",
              "        text-align: right;\n",
              "    }\n",
              "</style>\n",
              "<table border=\"1\" class=\"dataframe\">\n",
              "  <thead>\n",
              "    <tr style=\"text-align: right;\">\n",
              "      <th></th>\n",
              "      <th>ConcertId</th>\n",
              "      <th>ConcertName</th>\n",
              "      <th>Venue</th>\n",
              "      <th>StartSaleDate</th>\n",
              "      <th>ListPrice</th>\n",
              "      <th>SoldPrice</th>\n",
              "      <th>TotalSeat</th>\n",
              "      <th>Sex</th>\n",
              "      <th>Holiday</th>\n",
              "      <th>Summer_vacation</th>\n",
              "      <th>Winter_vacation</th>\n",
              "      <th>ReleaseDateTime</th>\n",
              "      <th>SoldDateTime</th>\n",
              "      <th>VenueArea_1</th>\n",
              "      <th>VenueArea_2</th>\n",
              "      <th>VenueArea_3</th>\n",
              "      <th>VenueArea_4</th>\n",
              "      <th>VenueArea_5</th>\n",
              "      <th>VenueArea_6</th>\n",
              "    </tr>\n",
              "  </thead>\n",
              "  <tbody>\n",
              "    <tr>\n",
              "      <th>0</th>\n",
              "      <td>16296</td>\n",
              "      <td>2015李翊君_夢想.情歌.演唱會</td>\n",
              "      <td>台北國際會議中心大會堂</td>\n",
              "      <td>2015-01-21</td>\n",
              "      <td>1400</td>\n",
              "      <td>10</td>\n",
              "      <td>3044</td>\n",
              "      <td>0</td>\n",
              "      <td>0</td>\n",
              "      <td>0</td>\n",
              "      <td>0</td>\n",
              "      <td>2015-06-06 19:30:00</td>\n",
              "      <td>2015-01-29 09:58:00</td>\n",
              "      <td>1</td>\n",
              "      <td>0</td>\n",
              "      <td>0</td>\n",
              "      <td>0</td>\n",
              "      <td>0</td>\n",
              "      <td>0</td>\n",
              "    </tr>\n",
              "    <tr>\n",
              "      <th>1</th>\n",
              "      <td>16296</td>\n",
              "      <td>2015李翊君_夢想.情歌.演唱會</td>\n",
              "      <td>台北國際會議中心大會堂</td>\n",
              "      <td>2015-01-21</td>\n",
              "      <td>1400</td>\n",
              "      <td>10</td>\n",
              "      <td>3044</td>\n",
              "      <td>0</td>\n",
              "      <td>0</td>\n",
              "      <td>0</td>\n",
              "      <td>0</td>\n",
              "      <td>2015-06-06 19:30:00</td>\n",
              "      <td>2015-01-29 09:58:00</td>\n",
              "      <td>1</td>\n",
              "      <td>0</td>\n",
              "      <td>0</td>\n",
              "      <td>0</td>\n",
              "      <td>0</td>\n",
              "      <td>0</td>\n",
              "    </tr>\n",
              "    <tr>\n",
              "      <th>2</th>\n",
              "      <td>16296</td>\n",
              "      <td>2015李翊君_夢想.情歌.演唱會</td>\n",
              "      <td>台北國際會議中心大會堂</td>\n",
              "      <td>2015-01-21</td>\n",
              "      <td>1400</td>\n",
              "      <td>10</td>\n",
              "      <td>3044</td>\n",
              "      <td>0</td>\n",
              "      <td>0</td>\n",
              "      <td>0</td>\n",
              "      <td>0</td>\n",
              "      <td>2015-06-06 19:30:00</td>\n",
              "      <td>2015-01-29 09:58:00</td>\n",
              "      <td>1</td>\n",
              "      <td>0</td>\n",
              "      <td>0</td>\n",
              "      <td>0</td>\n",
              "      <td>0</td>\n",
              "      <td>0</td>\n",
              "    </tr>\n",
              "    <tr>\n",
              "      <th>3</th>\n",
              "      <td>16296</td>\n",
              "      <td>2015李翊君_夢想.情歌.演唱會</td>\n",
              "      <td>台北國際會議中心大會堂</td>\n",
              "      <td>2015-01-21</td>\n",
              "      <td>1400</td>\n",
              "      <td>10</td>\n",
              "      <td>3044</td>\n",
              "      <td>0</td>\n",
              "      <td>0</td>\n",
              "      <td>0</td>\n",
              "      <td>0</td>\n",
              "      <td>2015-06-06 19:30:00</td>\n",
              "      <td>2015-01-29 09:58:00</td>\n",
              "      <td>1</td>\n",
              "      <td>0</td>\n",
              "      <td>0</td>\n",
              "      <td>0</td>\n",
              "      <td>0</td>\n",
              "      <td>0</td>\n",
              "    </tr>\n",
              "    <tr>\n",
              "      <th>4</th>\n",
              "      <td>16296</td>\n",
              "      <td>2015李翊君_夢想.情歌.演唱會</td>\n",
              "      <td>台北國際會議中心大會堂</td>\n",
              "      <td>2015-01-21</td>\n",
              "      <td>1400</td>\n",
              "      <td>10</td>\n",
              "      <td>3044</td>\n",
              "      <td>0</td>\n",
              "      <td>0</td>\n",
              "      <td>0</td>\n",
              "      <td>0</td>\n",
              "      <td>2015-06-06 19:30:00</td>\n",
              "      <td>2015-01-29 10:00:00</td>\n",
              "      <td>1</td>\n",
              "      <td>0</td>\n",
              "      <td>0</td>\n",
              "      <td>0</td>\n",
              "      <td>0</td>\n",
              "      <td>0</td>\n",
              "    </tr>\n",
              "  </tbody>\n",
              "</table>\n",
              "</div>"
            ],
            "text/plain": [
              "   ConcertId        ConcertName  ... VenueArea_5 VenueArea_6\n",
              "0      16296  2015李翊君_夢想.情歌.演唱會  ...           0           0\n",
              "1      16296  2015李翊君_夢想.情歌.演唱會  ...           0           0\n",
              "2      16296  2015李翊君_夢想.情歌.演唱會  ...           0           0\n",
              "3      16296  2015李翊君_夢想.情歌.演唱會  ...           0           0\n",
              "4      16296  2015李翊君_夢想.情歌.演唱會  ...           0           0\n",
              "\n",
              "[5 rows x 19 columns]"
            ]
          },
          "metadata": {
            "tags": []
          },
          "execution_count": 145
        }
      ]
    },
    {
      "cell_type": "code",
      "metadata": {
        "colab": {
          "base_uri": "https://localhost:8080/"
        },
        "id": "6hCjQZS7vPb9",
        "outputId": "20052147-4c5a-42a3-bbba-17e8be3b0d31"
      },
      "source": [
        "df[\"ListPrice\"].value_counts()"
      ],
      "execution_count": null,
      "outputs": [
        {
          "output_type": "execute_result",
          "data": {
            "text/plain": [
              "2000    35234\n",
              "2800    33268\n",
              "1800    31073\n",
              "1200    25954\n",
              "2500    24625\n",
              "        ...  \n",
              "1840       12\n",
              "1250       10\n",
              "1100       10\n",
              "2750        5\n",
              "1650        2\n",
              "Name: ListPrice, Length: 75, dtype: int64"
            ]
          },
          "metadata": {
            "tags": []
          },
          "execution_count": 7
        }
      ]
    },
    {
      "cell_type": "code",
      "metadata": {
        "id": "NenGV1Img99Q"
      },
      "source": [
        "#df = df.sort_values(by = ['StartSaleDate', 'SoldDate', 'SoldTime']).reset_index(drop = True)\n",
        "#df = df.sort_values(by = [\"ConcertId\"]).reset_index(drop = True)"
      ],
      "execution_count": null,
      "outputs": []
    },
    {
      "cell_type": "code",
      "metadata": {
        "colab": {
          "base_uri": "https://localhost:8080/",
          "height": 479
        },
        "id": "WyBTjnTtxrII",
        "outputId": "a9409c1c-0b16-4f3d-c702-a31d545e4315"
      },
      "source": [
        "df.head()"
      ],
      "execution_count": null,
      "outputs": [
        {
          "output_type": "execute_result",
          "data": {
            "text/html": [
              "<div>\n",
              "<style scoped>\n",
              "    .dataframe tbody tr th:only-of-type {\n",
              "        vertical-align: middle;\n",
              "    }\n",
              "\n",
              "    .dataframe tbody tr th {\n",
              "        vertical-align: top;\n",
              "    }\n",
              "\n",
              "    .dataframe thead th {\n",
              "        text-align: right;\n",
              "    }\n",
              "</style>\n",
              "<table border=\"1\" class=\"dataframe\">\n",
              "  <thead>\n",
              "    <tr style=\"text-align: right;\">\n",
              "      <th></th>\n",
              "      <th>id</th>\n",
              "      <th>ConcertId</th>\n",
              "      <th>OrganizerId</th>\n",
              "      <th>Name_organizer</th>\n",
              "      <th>ConcertName</th>\n",
              "      <th>Venue</th>\n",
              "      <th>ReleaseDate</th>\n",
              "      <th>ReleaseTime</th>\n",
              "      <th>SoldDate</th>\n",
              "      <th>SoldTime</th>\n",
              "      <th>StartSaleDate</th>\n",
              "      <th>ListPrice</th>\n",
              "      <th>SoldPrice</th>\n",
              "      <th>SeatRow</th>\n",
              "      <th>SeatColumn</th>\n",
              "      <th>VenueArea</th>\n",
              "      <th>TotalSeat</th>\n",
              "      <th>Sex</th>\n",
              "      <th>Holiday</th>\n",
              "      <th>Summer_vacation</th>\n",
              "      <th>Winter_vacation</th>\n",
              "      <th>Chinese_performer</th>\n",
              "      <th>NortheastAsian_performer</th>\n",
              "      <th>Western_performer</th>\n",
              "      <th>Individual_performer</th>\n",
              "      <th>Team_performer</th>\n",
              "      <th>Multi_performer</th>\n",
              "      <th>ReleaseDateTime</th>\n",
              "      <th>SoldDateTime</th>\n",
              "    </tr>\n",
              "  </thead>\n",
              "  <tbody>\n",
              "    <tr>\n",
              "      <th>0</th>\n",
              "      <td>16296_2015_06-06_19_30</td>\n",
              "      <td>16296</td>\n",
              "      <td>40373</td>\n",
              "      <td>探索傳播事業(股)公司</td>\n",
              "      <td>2015李翊君_夢想.情歌.演唱會</td>\n",
              "      <td>台北國際會議中心大會堂</td>\n",
              "      <td>2015-06-06</td>\n",
              "      <td>19:30</td>\n",
              "      <td>2015-01-29</td>\n",
              "      <td>09:58</td>\n",
              "      <td>2015-01-21</td>\n",
              "      <td>1400</td>\n",
              "      <td>10</td>\n",
              "      <td>055</td>\n",
              "      <td>25</td>\n",
              "      <td>北北基</td>\n",
              "      <td>3044</td>\n",
              "      <td>F</td>\n",
              "      <td>0</td>\n",
              "      <td>0</td>\n",
              "      <td>0</td>\n",
              "      <td>1.0</td>\n",
              "      <td>0.0</td>\n",
              "      <td>0.0</td>\n",
              "      <td>1.0</td>\n",
              "      <td>0.0</td>\n",
              "      <td>0.0</td>\n",
              "      <td>2015-06-06 19:30:00</td>\n",
              "      <td>2015-01-29 09:58:00</td>\n",
              "    </tr>\n",
              "    <tr>\n",
              "      <th>1</th>\n",
              "      <td>16296_2015_06-06_19_30</td>\n",
              "      <td>16296</td>\n",
              "      <td>40373</td>\n",
              "      <td>探索傳播事業(股)公司</td>\n",
              "      <td>2015李翊君_夢想.情歌.演唱會</td>\n",
              "      <td>台北國際會議中心大會堂</td>\n",
              "      <td>2015-06-06</td>\n",
              "      <td>19:30</td>\n",
              "      <td>2015-01-29</td>\n",
              "      <td>09:58</td>\n",
              "      <td>2015-01-21</td>\n",
              "      <td>1400</td>\n",
              "      <td>10</td>\n",
              "      <td>055</td>\n",
              "      <td>23</td>\n",
              "      <td>北北基</td>\n",
              "      <td>3044</td>\n",
              "      <td>F</td>\n",
              "      <td>0</td>\n",
              "      <td>0</td>\n",
              "      <td>0</td>\n",
              "      <td>1.0</td>\n",
              "      <td>0.0</td>\n",
              "      <td>0.0</td>\n",
              "      <td>1.0</td>\n",
              "      <td>0.0</td>\n",
              "      <td>0.0</td>\n",
              "      <td>2015-06-06 19:30:00</td>\n",
              "      <td>2015-01-29 09:58:00</td>\n",
              "    </tr>\n",
              "    <tr>\n",
              "      <th>2</th>\n",
              "      <td>16296_2015_06-06_19_30</td>\n",
              "      <td>16296</td>\n",
              "      <td>40373</td>\n",
              "      <td>探索傳播事業(股)公司</td>\n",
              "      <td>2015李翊君_夢想.情歌.演唱會</td>\n",
              "      <td>台北國際會議中心大會堂</td>\n",
              "      <td>2015-06-06</td>\n",
              "      <td>19:30</td>\n",
              "      <td>2015-01-29</td>\n",
              "      <td>09:58</td>\n",
              "      <td>2015-01-21</td>\n",
              "      <td>1400</td>\n",
              "      <td>10</td>\n",
              "      <td>055</td>\n",
              "      <td>21</td>\n",
              "      <td>北北基</td>\n",
              "      <td>3044</td>\n",
              "      <td>F</td>\n",
              "      <td>0</td>\n",
              "      <td>0</td>\n",
              "      <td>0</td>\n",
              "      <td>1.0</td>\n",
              "      <td>0.0</td>\n",
              "      <td>0.0</td>\n",
              "      <td>1.0</td>\n",
              "      <td>0.0</td>\n",
              "      <td>0.0</td>\n",
              "      <td>2015-06-06 19:30:00</td>\n",
              "      <td>2015-01-29 09:58:00</td>\n",
              "    </tr>\n",
              "    <tr>\n",
              "      <th>3</th>\n",
              "      <td>16296_2015_06-06_19_30</td>\n",
              "      <td>16296</td>\n",
              "      <td>40373</td>\n",
              "      <td>探索傳播事業(股)公司</td>\n",
              "      <td>2015李翊君_夢想.情歌.演唱會</td>\n",
              "      <td>台北國際會議中心大會堂</td>\n",
              "      <td>2015-06-06</td>\n",
              "      <td>19:30</td>\n",
              "      <td>2015-01-29</td>\n",
              "      <td>09:58</td>\n",
              "      <td>2015-01-21</td>\n",
              "      <td>1400</td>\n",
              "      <td>10</td>\n",
              "      <td>055</td>\n",
              "      <td>19</td>\n",
              "      <td>北北基</td>\n",
              "      <td>3044</td>\n",
              "      <td>F</td>\n",
              "      <td>0</td>\n",
              "      <td>0</td>\n",
              "      <td>0</td>\n",
              "      <td>1.0</td>\n",
              "      <td>0.0</td>\n",
              "      <td>0.0</td>\n",
              "      <td>1.0</td>\n",
              "      <td>0.0</td>\n",
              "      <td>0.0</td>\n",
              "      <td>2015-06-06 19:30:00</td>\n",
              "      <td>2015-01-29 09:58:00</td>\n",
              "    </tr>\n",
              "    <tr>\n",
              "      <th>4</th>\n",
              "      <td>16296_2015_06-06_19_30</td>\n",
              "      <td>16296</td>\n",
              "      <td>40373</td>\n",
              "      <td>探索傳播事業(股)公司</td>\n",
              "      <td>2015李翊君_夢想.情歌.演唱會</td>\n",
              "      <td>台北國際會議中心大會堂</td>\n",
              "      <td>2015-06-06</td>\n",
              "      <td>19:30</td>\n",
              "      <td>2015-01-29</td>\n",
              "      <td>10:00</td>\n",
              "      <td>2015-01-21</td>\n",
              "      <td>1400</td>\n",
              "      <td>10</td>\n",
              "      <td>055</td>\n",
              "      <td>12</td>\n",
              "      <td>北北基</td>\n",
              "      <td>3044</td>\n",
              "      <td>F</td>\n",
              "      <td>0</td>\n",
              "      <td>0</td>\n",
              "      <td>0</td>\n",
              "      <td>1.0</td>\n",
              "      <td>0.0</td>\n",
              "      <td>0.0</td>\n",
              "      <td>1.0</td>\n",
              "      <td>0.0</td>\n",
              "      <td>0.0</td>\n",
              "      <td>2015-06-06 19:30:00</td>\n",
              "      <td>2015-01-29 10:00:00</td>\n",
              "    </tr>\n",
              "  </tbody>\n",
              "</table>\n",
              "</div>"
            ],
            "text/plain": [
              "                       id  ConcertId  ...     ReleaseDateTime        SoldDateTime\n",
              "0  16296_2015_06-06_19_30      16296  ... 2015-06-06 19:30:00 2015-01-29 09:58:00\n",
              "1  16296_2015_06-06_19_30      16296  ... 2015-06-06 19:30:00 2015-01-29 09:58:00\n",
              "2  16296_2015_06-06_19_30      16296  ... 2015-06-06 19:30:00 2015-01-29 09:58:00\n",
              "3  16296_2015_06-06_19_30      16296  ... 2015-06-06 19:30:00 2015-01-29 09:58:00\n",
              "4  16296_2015_06-06_19_30      16296  ... 2015-06-06 19:30:00 2015-01-29 10:00:00\n",
              "\n",
              "[5 rows x 29 columns]"
            ]
          },
          "metadata": {
            "tags": []
          },
          "execution_count": 36
        }
      ]
    },
    {
      "cell_type": "code",
      "metadata": {
        "colab": {
          "base_uri": "https://localhost:8080/"
        },
        "id": "fUAVBRGmyq6T",
        "outputId": "79caed3e-2202-4f72-8014-56664ba92650"
      },
      "source": [
        "df.shape"
      ],
      "execution_count": null,
      "outputs": [
        {
          "output_type": "execute_result",
          "data": {
            "text/plain": [
              "(425088, 18)"
            ]
          },
          "metadata": {
            "tags": []
          },
          "execution_count": 20
        }
      ]
    },
    {
      "cell_type": "code",
      "metadata": {
        "colab": {
          "base_uri": "https://localhost:8080/"
        },
        "id": "J5ObFTwos6fK",
        "outputId": "883cfc6e-9446-4994-b695-8a6ac75ee531"
      },
      "source": [
        "df.groupby(by = ['ConcertName', 'ReleaseDateTime'])[\"Venue\"].value_counts()"
      ],
      "execution_count": null,
      "outputs": [
        {
          "output_type": "execute_result",
          "data": {
            "text/plain": [
              "ConcertName                                            ReleaseDateTime      Venue             \n",
              "2015[世紀巨星風華絕代]金曲演唱會                                    2015-08-14 19:30:00  台北國際會議中心大會堂           1219\n",
              "                                                       2015-08-15 19:30:00  台北國際會議中心大會堂           1465\n",
              "2015_TOKU_Live_Concert_in_Taipei-日本爵士巨擘TOKU-2015台北演唱會  2015-11-26 19:30:00  NeoStudio               49\n",
              "2015八代亞紀\"台灣你好\"夏日金曲演唱會                                  2015-06-28 19:30:00  台北國際會議中心大會堂           2783\n",
              "2015懷念歌廳秀巡迴演出                                          2015-05-09 19:00:00  高雄市勞工教育生活中心澄清會館演藝廳    1796\n",
              "                                                                                                  ... \n",
              "饒夢霞_如歌人生2016愛您一路公益說唱會                                  2016-12-16 19:00:00  成功大學-成功廳               618\n",
              "                                                       2016-12-17 14:00:00  國立台灣體育運動大學(台中)-中興堂     492\n",
              "黃玠[關於那些記得的事]巡迴演唱會-台中場                                  2016-11-26 20:00:00  LegacyTaichung         422\n",
              "黃貫中英雄有分數演唱會                                            2016-04-30 19:30:00  台北國際會議中心大會堂           1029\n",
              "齋賀光希+阿部敦_W_Event_in_Taiwan                             2017-01-22 17:00:00  花漾HANA展演空間             113\n",
              "Name: Venue, Length: 188, dtype: int64"
            ]
          },
          "metadata": {
            "tags": []
          },
          "execution_count": 52
        }
      ]
    },
    {
      "cell_type": "code",
      "metadata": {
        "colab": {
          "base_uri": "https://localhost:8080/"
        },
        "id": "Z5ECWFX_1Nnl",
        "outputId": "8693fc95-c336-421b-bba9-8337fef1573e"
      },
      "source": [
        "df[\"Venue\"].value_counts()"
      ],
      "execution_count": null,
      "outputs": [
        {
          "output_type": "execute_result",
          "data": {
            "text/plain": [
              "台北國際會議中心大會堂           107407\n",
              "台北小巨蛋                  95989\n",
              "高雄巨蛋                   39581\n",
              "台中市中興大學惠蓀堂             35043\n",
              "台北國父紀念館                22010\n",
              "國立台灣大學綜合體育館            20725\n",
              "台北國家音樂廳                13632\n",
              "桃園巨蛋                    9081\n",
              "苗栗巨蛋體育館                 7532\n",
              "成功大學-中正堂                7366\n",
              "嘉義港坪體育館                 6034\n",
              "新北市工商展覽中心               5681\n",
              "台中圓滿戶外劇場                5494\n",
              "國立台灣體育運動大學(台中)-田徑場      4817\n",
              "ATT_SHOW_BOX            3856\n",
              "花蓮縣立體育館                 3804\n",
              "基隆文化中心演藝廳               3787\n",
              "高雄市勞工教育生活中心澄清會館演藝廳      3596\n",
              "OMNI                    3402\n",
              "新北市政府多功能集會堂             2309\n",
              "金門金湖體育館                 2220\n",
              "成功大學-成功廳                2124\n",
              "台北小巨蛋_包廂                1804\n",
              "臺中國家歌劇院大劇院              1739\n",
              "高雄市文化中心至德堂              1628\n",
              "LegacyTaichung          1563\n",
              "雲林科技大學大禮堂               1351\n",
              "中油國光廳                   1197\n",
              "桃園展演中心展演廳               1039\n",
              "屏東演藝廳[音樂廳]              1002\n",
              "花漾HANA展演空間               933\n",
              "台北中山堂中正廳                 910\n",
              "桃園展演中心                   815\n",
              "臺北市政府親子劇場                800\n",
              "The_Wall這牆音樂藝文展演空間       762\n",
              "NeoStudio                743\n",
              "南投縣政府文化局演藝廳              702\n",
              "國立台灣體育運動大學(台中)-中興堂       492\n",
              "嘉義市政府文化局音樂廳              478\n",
              "松菸誠品表演廳                  466\n",
              "廢墟                       388\n",
              "汐止遠雄購物中心                 245\n",
              "河岸留言西門紅樓展演館              192\n",
              "梅門防空洞                    185\n",
              "杰克音樂.花漾空間                 91\n",
              "LegacyTaipei              73\n",
              "Name: Venue, dtype: int64"
            ]
          },
          "metadata": {
            "tags": []
          },
          "execution_count": 32
        }
      ]
    },
    {
      "cell_type": "code",
      "metadata": {
        "colab": {
          "base_uri": "https://localhost:8080/"
        },
        "id": "jZy1zih10_Wr",
        "outputId": "37b8e859-6efd-4a61-b14a-ea768a3b1568"
      },
      "source": [
        "df[\"VenueArea\"].value_counts()"
      ],
      "execution_count": null,
      "outputs": [
        {
          "output_type": "execute_result",
          "data": {
            "text/plain": [
              "北北基      287199\n",
              "中彰投       49850\n",
              "高屏        46195\n",
              "桃竹苗       18467\n",
              "雲嘉南       17353\n",
              "花東_外島      6024\n",
              "Name: VenueArea, dtype: int64"
            ]
          },
          "metadata": {
            "tags": []
          },
          "execution_count": 31
        }
      ]
    },
    {
      "cell_type": "code",
      "metadata": {
        "id": "kcNoTKdi24We"
      },
      "source": [
        "b = df.groupby(by = ['ConcertName', 'ReleaseDateTime'])"
      ],
      "execution_count": null,
      "outputs": []
    },
    {
      "cell_type": "code",
      "metadata": {
        "colab": {
          "base_uri": "https://localhost:8080/",
          "height": 674
        },
        "id": "Ff2gTI9JQ1C-",
        "outputId": "df4c2c06-818e-40b3-b8bf-38f1bdf9b25f"
      },
      "source": [
        "temp = b.count().sort_values(by = ['ConcertId'],ascending=False)\n",
        "temp"
      ],
      "execution_count": null,
      "outputs": [
        {
          "output_type": "execute_result",
          "data": {
            "text/html": [
              "<div>\n",
              "<style scoped>\n",
              "    .dataframe tbody tr th:only-of-type {\n",
              "        vertical-align: middle;\n",
              "    }\n",
              "\n",
              "    .dataframe tbody tr th {\n",
              "        vertical-align: top;\n",
              "    }\n",
              "\n",
              "    .dataframe thead th {\n",
              "        text-align: right;\n",
              "    }\n",
              "</style>\n",
              "<table border=\"1\" class=\"dataframe\">\n",
              "  <thead>\n",
              "    <tr style=\"text-align: right;\">\n",
              "      <th></th>\n",
              "      <th></th>\n",
              "      <th>ConcertId</th>\n",
              "      <th>Venue</th>\n",
              "      <th>StartSaleDate</th>\n",
              "      <th>ListPrice</th>\n",
              "      <th>SoldPrice</th>\n",
              "      <th>VenueArea</th>\n",
              "      <th>TotalSeat</th>\n",
              "      <th>Sex</th>\n",
              "      <th>Holiday</th>\n",
              "      <th>Summer_vacation</th>\n",
              "      <th>Winter_vacation</th>\n",
              "      <th>SoldDateTime</th>\n",
              "    </tr>\n",
              "    <tr>\n",
              "      <th>ConcertName</th>\n",
              "      <th>ReleaseDateTime</th>\n",
              "      <th></th>\n",
              "      <th></th>\n",
              "      <th></th>\n",
              "      <th></th>\n",
              "      <th></th>\n",
              "      <th></th>\n",
              "      <th></th>\n",
              "      <th></th>\n",
              "      <th></th>\n",
              "      <th></th>\n",
              "      <th></th>\n",
              "      <th></th>\n",
              "    </tr>\n",
              "  </thead>\n",
              "  <tbody>\n",
              "    <tr>\n",
              "      <th>NISSAN超玩美之夜_越愛越勇敢_彭佳慧2015台北小巨蛋演唱會</th>\n",
              "      <th>2015-06-20 19:30:00</th>\n",
              "      <td>11219</td>\n",
              "      <td>11219</td>\n",
              "      <td>11219</td>\n",
              "      <td>11219</td>\n",
              "      <td>11219</td>\n",
              "      <td>11219</td>\n",
              "      <td>11219</td>\n",
              "      <td>11219</td>\n",
              "      <td>11219</td>\n",
              "      <td>11219</td>\n",
              "      <td>11219</td>\n",
              "      <td>11219</td>\n",
              "    </tr>\n",
              "    <tr>\n",
              "      <th>留住你我的故事-黃鶯鶯2015臺北小巨蛋演唱會</th>\n",
              "      <th>2015-05-16 19:30:00</th>\n",
              "      <td>11198</td>\n",
              "      <td>11198</td>\n",
              "      <td>11198</td>\n",
              "      <td>11198</td>\n",
              "      <td>11198</td>\n",
              "      <td>11198</td>\n",
              "      <td>11198</td>\n",
              "      <td>11198</td>\n",
              "      <td>11198</td>\n",
              "      <td>11198</td>\n",
              "      <td>11198</td>\n",
              "      <td>11198</td>\n",
              "    </tr>\n",
              "    <tr>\n",
              "      <th>遇恆_牽情_姜育恆2015全球巡迴演唱會</th>\n",
              "      <th>2015-11-28 19:30:00</th>\n",
              "      <td>11011</td>\n",
              "      <td>11011</td>\n",
              "      <td>11011</td>\n",
              "      <td>11011</td>\n",
              "      <td>11011</td>\n",
              "      <td>11011</td>\n",
              "      <td>11011</td>\n",
              "      <td>11011</td>\n",
              "      <td>11011</td>\n",
              "      <td>11011</td>\n",
              "      <td>11011</td>\n",
              "      <td>11011</td>\n",
              "    </tr>\n",
              "    <tr>\n",
              "      <th>林志炫ONEtake世界巡迴演唱會-台北站</th>\n",
              "      <th>2016-11-05 19:30:00</th>\n",
              "      <td>10781</td>\n",
              "      <td>10781</td>\n",
              "      <td>10781</td>\n",
              "      <td>10781</td>\n",
              "      <td>10781</td>\n",
              "      <td>10781</td>\n",
              "      <td>10781</td>\n",
              "      <td>10781</td>\n",
              "      <td>10781</td>\n",
              "      <td>10781</td>\n",
              "      <td>10781</td>\n",
              "      <td>10781</td>\n",
              "    </tr>\n",
              "    <tr>\n",
              "      <th>留住你我的故事-黃鶯鶯2015臺北小巨蛋演唱會</th>\n",
              "      <th>2015-05-17 19:30:00</th>\n",
              "      <td>10450</td>\n",
              "      <td>10450</td>\n",
              "      <td>10450</td>\n",
              "      <td>10450</td>\n",
              "      <td>10450</td>\n",
              "      <td>10450</td>\n",
              "      <td>10450</td>\n",
              "      <td>10450</td>\n",
              "      <td>10450</td>\n",
              "      <td>10450</td>\n",
              "      <td>10450</td>\n",
              "      <td>10450</td>\n",
              "    </tr>\n",
              "    <tr>\n",
              "      <th>...</th>\n",
              "      <th>...</th>\n",
              "      <td>...</td>\n",
              "      <td>...</td>\n",
              "      <td>...</td>\n",
              "      <td>...</td>\n",
              "      <td>...</td>\n",
              "      <td>...</td>\n",
              "      <td>...</td>\n",
              "      <td>...</td>\n",
              "      <td>...</td>\n",
              "      <td>...</td>\n",
              "      <td>...</td>\n",
              "      <td>...</td>\n",
              "    </tr>\n",
              "    <tr>\n",
              "      <th>2015格蘭利威Glenlivet-Mike_Candys_Taipei_Live_Show</th>\n",
              "      <th>2015-11-21 22:00:00</th>\n",
              "      <td>47</td>\n",
              "      <td>47</td>\n",
              "      <td>47</td>\n",
              "      <td>47</td>\n",
              "      <td>47</td>\n",
              "      <td>47</td>\n",
              "      <td>47</td>\n",
              "      <td>47</td>\n",
              "      <td>47</td>\n",
              "      <td>47</td>\n",
              "      <td>47</td>\n",
              "      <td>47</td>\n",
              "    </tr>\n",
              "    <tr>\n",
              "      <th>[眾聲喧囂]Triple_Deer同名EP發片巡迴演出</th>\n",
              "      <th>2015-08-09 19:00:00</th>\n",
              "      <td>45</td>\n",
              "      <td>45</td>\n",
              "      <td>45</td>\n",
              "      <td>45</td>\n",
              "      <td>45</td>\n",
              "      <td>45</td>\n",
              "      <td>45</td>\n",
              "      <td>45</td>\n",
              "      <td>45</td>\n",
              "      <td>45</td>\n",
              "      <td>45</td>\n",
              "      <td>45</td>\n",
              "    </tr>\n",
              "    <tr>\n",
              "      <th>Afilia_Saga_Premium-One_man_Live_2016-in台灣</th>\n",
              "      <th>2016-07-09 18:30:00</th>\n",
              "      <td>28</td>\n",
              "      <td>28</td>\n",
              "      <td>28</td>\n",
              "      <td>28</td>\n",
              "      <td>28</td>\n",
              "      <td>28</td>\n",
              "      <td>28</td>\n",
              "      <td>28</td>\n",
              "      <td>28</td>\n",
              "      <td>28</td>\n",
              "      <td>28</td>\n",
              "      <td>28</td>\n",
              "    </tr>\n",
              "    <tr>\n",
              "      <th>[第一屆_I-WANT星勢力]流行音樂公益唱作大賽</th>\n",
              "      <th>2016-07-31 14:00:00</th>\n",
              "      <td>28</td>\n",
              "      <td>28</td>\n",
              "      <td>28</td>\n",
              "      <td>28</td>\n",
              "      <td>28</td>\n",
              "      <td>28</td>\n",
              "      <td>28</td>\n",
              "      <td>28</td>\n",
              "      <td>28</td>\n",
              "      <td>28</td>\n",
              "      <td>28</td>\n",
              "      <td>28</td>\n",
              "    </tr>\n",
              "    <tr>\n",
              "      <th>IDOLidge_Carnival_In_TAIPEI-Afilia_Saga_Premium_One-man_Live_2016-in台灣4場公演共通券(10/1-2公演)</th>\n",
              "      <th>2016-07-09 00:00:00</th>\n",
              "      <td>26</td>\n",
              "      <td>26</td>\n",
              "      <td>26</td>\n",
              "      <td>26</td>\n",
              "      <td>26</td>\n",
              "      <td>26</td>\n",
              "      <td>26</td>\n",
              "      <td>26</td>\n",
              "      <td>26</td>\n",
              "      <td>26</td>\n",
              "      <td>26</td>\n",
              "      <td>26</td>\n",
              "    </tr>\n",
              "  </tbody>\n",
              "</table>\n",
              "<p>180 rows × 12 columns</p>\n",
              "</div>"
            ],
            "text/plain": [
              "                                                                        ConcertId  ...  SoldDateTime\n",
              "ConcertName                                        ReleaseDateTime                 ...              \n",
              "NISSAN超玩美之夜_越愛越勇敢_彭佳慧2015台北小巨蛋演唱會                  2015-06-20 19:30:00      11219  ...         11219\n",
              "留住你我的故事-黃鶯鶯2015臺北小巨蛋演唱會                            2015-05-16 19:30:00      11198  ...         11198\n",
              "遇恆_牽情_姜育恆2015全球巡迴演唱會                               2015-11-28 19:30:00      11011  ...         11011\n",
              "林志炫ONEtake世界巡迴演唱會-台北站                              2016-11-05 19:30:00      10781  ...         10781\n",
              "留住你我的故事-黃鶯鶯2015臺北小巨蛋演唱會                            2015-05-17 19:30:00      10450  ...         10450\n",
              "...                                                                           ...  ...           ...\n",
              "2015格蘭利威Glenlivet-Mike_Candys_Taipei_Live_Show     2015-11-21 22:00:00         47  ...            47\n",
              "[眾聲喧囂]Triple_Deer同名EP發片巡迴演出                        2015-08-09 19:00:00         45  ...            45\n",
              "Afilia_Saga_Premium-One_man_Live_2016-in台灣         2016-07-09 18:30:00         28  ...            28\n",
              "[第一屆_I-WANT星勢力]流行音樂公益唱作大賽                          2016-07-31 14:00:00         28  ...            28\n",
              "IDOLidge_Carnival_In_TAIPEI-Afilia_Saga_Premium... 2016-07-09 00:00:00         26  ...            26\n",
              "\n",
              "[180 rows x 12 columns]"
            ]
          },
          "metadata": {
            "tags": []
          },
          "execution_count": 6
        }
      ]
    },
    {
      "cell_type": "code",
      "metadata": {
        "colab": {
          "base_uri": "https://localhost:8080/",
          "height": 450
        },
        "id": "BXuYTYlppekg",
        "outputId": "96e29e08-bc9f-452e-9ece-9419d2f8d1b5"
      },
      "source": [
        "temp = temp[[\"ConcertId\"]]\n",
        "\n",
        "number_visitors = temp.rename(columns = {\"ConcertId\": \"count_visitors\"}, inplace = False)\n",
        "number_visitors"
      ],
      "execution_count": null,
      "outputs": [
        {
          "output_type": "execute_result",
          "data": {
            "text/html": [
              "<div>\n",
              "<style scoped>\n",
              "    .dataframe tbody tr th:only-of-type {\n",
              "        vertical-align: middle;\n",
              "    }\n",
              "\n",
              "    .dataframe tbody tr th {\n",
              "        vertical-align: top;\n",
              "    }\n",
              "\n",
              "    .dataframe thead th {\n",
              "        text-align: right;\n",
              "    }\n",
              "</style>\n",
              "<table border=\"1\" class=\"dataframe\">\n",
              "  <thead>\n",
              "    <tr style=\"text-align: right;\">\n",
              "      <th></th>\n",
              "      <th></th>\n",
              "      <th>count_visitors</th>\n",
              "    </tr>\n",
              "    <tr>\n",
              "      <th>ConcertName</th>\n",
              "      <th>ReleaseDateTime</th>\n",
              "      <th></th>\n",
              "    </tr>\n",
              "  </thead>\n",
              "  <tbody>\n",
              "    <tr>\n",
              "      <th>NISSAN超玩美之夜_越愛越勇敢_彭佳慧2015台北小巨蛋演唱會</th>\n",
              "      <th>2015-06-20 19:30:00</th>\n",
              "      <td>11219</td>\n",
              "    </tr>\n",
              "    <tr>\n",
              "      <th>留住你我的故事-黃鶯鶯2015臺北小巨蛋演唱會</th>\n",
              "      <th>2015-05-16 19:30:00</th>\n",
              "      <td>11198</td>\n",
              "    </tr>\n",
              "    <tr>\n",
              "      <th>遇恆_牽情_姜育恆2015全球巡迴演唱會</th>\n",
              "      <th>2015-11-28 19:30:00</th>\n",
              "      <td>11011</td>\n",
              "    </tr>\n",
              "    <tr>\n",
              "      <th>林志炫ONEtake世界巡迴演唱會-台北站</th>\n",
              "      <th>2016-11-05 19:30:00</th>\n",
              "      <td>10781</td>\n",
              "    </tr>\n",
              "    <tr>\n",
              "      <th>留住你我的故事-黃鶯鶯2015臺北小巨蛋演唱會</th>\n",
              "      <th>2015-05-17 19:30:00</th>\n",
              "      <td>10450</td>\n",
              "    </tr>\n",
              "    <tr>\n",
              "      <th>...</th>\n",
              "      <th>...</th>\n",
              "      <td>...</td>\n",
              "    </tr>\n",
              "    <tr>\n",
              "      <th>2015格蘭利威Glenlivet-Mike_Candys_Taipei_Live_Show</th>\n",
              "      <th>2015-11-21 22:00:00</th>\n",
              "      <td>47</td>\n",
              "    </tr>\n",
              "    <tr>\n",
              "      <th>[眾聲喧囂]Triple_Deer同名EP發片巡迴演出</th>\n",
              "      <th>2015-08-09 19:00:00</th>\n",
              "      <td>45</td>\n",
              "    </tr>\n",
              "    <tr>\n",
              "      <th>Afilia_Saga_Premium-One_man_Live_2016-in台灣</th>\n",
              "      <th>2016-07-09 18:30:00</th>\n",
              "      <td>28</td>\n",
              "    </tr>\n",
              "    <tr>\n",
              "      <th>[第一屆_I-WANT星勢力]流行音樂公益唱作大賽</th>\n",
              "      <th>2016-07-31 14:00:00</th>\n",
              "      <td>28</td>\n",
              "    </tr>\n",
              "    <tr>\n",
              "      <th>IDOLidge_Carnival_In_TAIPEI-Afilia_Saga_Premium_One-man_Live_2016-in台灣4場公演共通券(10/1-2公演)</th>\n",
              "      <th>2016-07-09 00:00:00</th>\n",
              "      <td>26</td>\n",
              "    </tr>\n",
              "  </tbody>\n",
              "</table>\n",
              "<p>180 rows × 1 columns</p>\n",
              "</div>"
            ],
            "text/plain": [
              "                                                                        count_visitors\n",
              "ConcertName                                        ReleaseDateTime                    \n",
              "NISSAN超玩美之夜_越愛越勇敢_彭佳慧2015台北小巨蛋演唱會                  2015-06-20 19:30:00           11219\n",
              "留住你我的故事-黃鶯鶯2015臺北小巨蛋演唱會                            2015-05-16 19:30:00           11198\n",
              "遇恆_牽情_姜育恆2015全球巡迴演唱會                               2015-11-28 19:30:00           11011\n",
              "林志炫ONEtake世界巡迴演唱會-台北站                              2016-11-05 19:30:00           10781\n",
              "留住你我的故事-黃鶯鶯2015臺北小巨蛋演唱會                            2015-05-17 19:30:00           10450\n",
              "...                                                                                ...\n",
              "2015格蘭利威Glenlivet-Mike_Candys_Taipei_Live_Show     2015-11-21 22:00:00              47\n",
              "[眾聲喧囂]Triple_Deer同名EP發片巡迴演出                        2015-08-09 19:00:00              45\n",
              "Afilia_Saga_Premium-One_man_Live_2016-in台灣         2016-07-09 18:30:00              28\n",
              "[第一屆_I-WANT星勢力]流行音樂公益唱作大賽                          2016-07-31 14:00:00              28\n",
              "IDOLidge_Carnival_In_TAIPEI-Afilia_Saga_Premium... 2016-07-09 00:00:00              26\n",
              "\n",
              "[180 rows x 1 columns]"
            ]
          },
          "metadata": {
            "tags": []
          },
          "execution_count": 7
        }
      ]
    },
    {
      "cell_type": "code",
      "metadata": {
        "id": "NgIv3t0fvPwJ"
      },
      "source": [
        "concert_info = b.describe().sort_values(by = ['ConcertName', 'ReleaseDateTime'],ascending=False)"
      ],
      "execution_count": null,
      "outputs": []
    },
    {
      "cell_type": "code",
      "metadata": {
        "colab": {
          "base_uri": "https://localhost:8080/",
          "height": 671
        },
        "id": "vzINsZ6pw_Y5",
        "outputId": "fe348634-40b8-4516-e4d0-7911422f17e7"
      },
      "source": [
        "concert_info"
      ],
      "execution_count": null,
      "outputs": [
        {
          "output_type": "execute_result",
          "data": {
            "text/html": [
              "<div>\n",
              "<style scoped>\n",
              "    .dataframe tbody tr th:only-of-type {\n",
              "        vertical-align: middle;\n",
              "    }\n",
              "\n",
              "    .dataframe tbody tr th {\n",
              "        vertical-align: top;\n",
              "    }\n",
              "\n",
              "    .dataframe thead tr th {\n",
              "        text-align: left;\n",
              "    }\n",
              "\n",
              "    .dataframe thead tr:last-of-type th {\n",
              "        text-align: right;\n",
              "    }\n",
              "</style>\n",
              "<table border=\"1\" class=\"dataframe\">\n",
              "  <thead>\n",
              "    <tr>\n",
              "      <th></th>\n",
              "      <th></th>\n",
              "      <th colspan=\"8\" halign=\"left\">ConcertId</th>\n",
              "      <th colspan=\"8\" halign=\"left\">ListPrice</th>\n",
              "      <th colspan=\"8\" halign=\"left\">SoldPrice</th>\n",
              "      <th colspan=\"8\" halign=\"left\">VenueArea</th>\n",
              "      <th colspan=\"8\" halign=\"left\">TotalSeat</th>\n",
              "      <th colspan=\"8\" halign=\"left\">Sex</th>\n",
              "      <th colspan=\"8\" halign=\"left\">Holiday</th>\n",
              "      <th colspan=\"8\" halign=\"left\">Summer_vacation</th>\n",
              "      <th colspan=\"8\" halign=\"left\">Winter_vacation</th>\n",
              "    </tr>\n",
              "    <tr>\n",
              "      <th></th>\n",
              "      <th></th>\n",
              "      <th>count</th>\n",
              "      <th>mean</th>\n",
              "      <th>std</th>\n",
              "      <th>min</th>\n",
              "      <th>25%</th>\n",
              "      <th>50%</th>\n",
              "      <th>75%</th>\n",
              "      <th>max</th>\n",
              "      <th>count</th>\n",
              "      <th>mean</th>\n",
              "      <th>std</th>\n",
              "      <th>min</th>\n",
              "      <th>25%</th>\n",
              "      <th>50%</th>\n",
              "      <th>75%</th>\n",
              "      <th>max</th>\n",
              "      <th>count</th>\n",
              "      <th>mean</th>\n",
              "      <th>std</th>\n",
              "      <th>min</th>\n",
              "      <th>25%</th>\n",
              "      <th>50%</th>\n",
              "      <th>75%</th>\n",
              "      <th>max</th>\n",
              "      <th>count</th>\n",
              "      <th>mean</th>\n",
              "      <th>std</th>\n",
              "      <th>min</th>\n",
              "      <th>25%</th>\n",
              "      <th>50%</th>\n",
              "      <th>75%</th>\n",
              "      <th>max</th>\n",
              "      <th>count</th>\n",
              "      <th>mean</th>\n",
              "      <th>std</th>\n",
              "      <th>min</th>\n",
              "      <th>25%</th>\n",
              "      <th>50%</th>\n",
              "      <th>75%</th>\n",
              "      <th>max</th>\n",
              "      <th>count</th>\n",
              "      <th>mean</th>\n",
              "      <th>std</th>\n",
              "      <th>min</th>\n",
              "      <th>25%</th>\n",
              "      <th>50%</th>\n",
              "      <th>75%</th>\n",
              "      <th>max</th>\n",
              "      <th>count</th>\n",
              "      <th>mean</th>\n",
              "      <th>std</th>\n",
              "      <th>min</th>\n",
              "      <th>25%</th>\n",
              "      <th>50%</th>\n",
              "      <th>75%</th>\n",
              "      <th>max</th>\n",
              "      <th>count</th>\n",
              "      <th>mean</th>\n",
              "      <th>std</th>\n",
              "      <th>min</th>\n",
              "      <th>25%</th>\n",
              "      <th>50%</th>\n",
              "      <th>75%</th>\n",
              "      <th>max</th>\n",
              "      <th>count</th>\n",
              "      <th>mean</th>\n",
              "      <th>std</th>\n",
              "      <th>min</th>\n",
              "      <th>25%</th>\n",
              "      <th>50%</th>\n",
              "      <th>75%</th>\n",
              "      <th>max</th>\n",
              "    </tr>\n",
              "    <tr>\n",
              "      <th>ConcertName</th>\n",
              "      <th>ReleaseDateTime</th>\n",
              "      <th></th>\n",
              "      <th></th>\n",
              "      <th></th>\n",
              "      <th></th>\n",
              "      <th></th>\n",
              "      <th></th>\n",
              "      <th></th>\n",
              "      <th></th>\n",
              "      <th></th>\n",
              "      <th></th>\n",
              "      <th></th>\n",
              "      <th></th>\n",
              "      <th></th>\n",
              "      <th></th>\n",
              "      <th></th>\n",
              "      <th></th>\n",
              "      <th></th>\n",
              "      <th></th>\n",
              "      <th></th>\n",
              "      <th></th>\n",
              "      <th></th>\n",
              "      <th></th>\n",
              "      <th></th>\n",
              "      <th></th>\n",
              "      <th></th>\n",
              "      <th></th>\n",
              "      <th></th>\n",
              "      <th></th>\n",
              "      <th></th>\n",
              "      <th></th>\n",
              "      <th></th>\n",
              "      <th></th>\n",
              "      <th></th>\n",
              "      <th></th>\n",
              "      <th></th>\n",
              "      <th></th>\n",
              "      <th></th>\n",
              "      <th></th>\n",
              "      <th></th>\n",
              "      <th></th>\n",
              "      <th></th>\n",
              "      <th></th>\n",
              "      <th></th>\n",
              "      <th></th>\n",
              "      <th></th>\n",
              "      <th></th>\n",
              "      <th></th>\n",
              "      <th></th>\n",
              "      <th></th>\n",
              "      <th></th>\n",
              "      <th></th>\n",
              "      <th></th>\n",
              "      <th></th>\n",
              "      <th></th>\n",
              "      <th></th>\n",
              "      <th></th>\n",
              "      <th></th>\n",
              "      <th></th>\n",
              "      <th></th>\n",
              "      <th></th>\n",
              "      <th></th>\n",
              "      <th></th>\n",
              "      <th></th>\n",
              "      <th></th>\n",
              "      <th></th>\n",
              "      <th></th>\n",
              "      <th></th>\n",
              "      <th></th>\n",
              "      <th></th>\n",
              "      <th></th>\n",
              "      <th></th>\n",
              "      <th></th>\n",
              "    </tr>\n",
              "  </thead>\n",
              "  <tbody>\n",
              "    <tr>\n",
              "      <th>齋賀光希+阿部敦_W_Event_in_Taiwan</th>\n",
              "      <th>2017-01-22 17:00:00</th>\n",
              "      <td>113.0</td>\n",
              "      <td>17863.0</td>\n",
              "      <td>0.0</td>\n",
              "      <td>17863.0</td>\n",
              "      <td>17863.0</td>\n",
              "      <td>17863.0</td>\n",
              "      <td>17863.0</td>\n",
              "      <td>17863.0</td>\n",
              "      <td>113.0</td>\n",
              "      <td>2304.424779</td>\n",
              "      <td>353.904088</td>\n",
              "      <td>900.0</td>\n",
              "      <td>1800.0</td>\n",
              "      <td>2500.0</td>\n",
              "      <td>2500.0</td>\n",
              "      <td>2500.0</td>\n",
              "      <td>113.0</td>\n",
              "      <td>2304.424779</td>\n",
              "      <td>353.904088</td>\n",
              "      <td>900.0</td>\n",
              "      <td>1800.0</td>\n",
              "      <td>2500.0</td>\n",
              "      <td>2500.0</td>\n",
              "      <td>2500.0</td>\n",
              "      <td>113.0</td>\n",
              "      <td>1.0</td>\n",
              "      <td>0.0</td>\n",
              "      <td>1.0</td>\n",
              "      <td>1.0</td>\n",
              "      <td>1.0</td>\n",
              "      <td>1.0</td>\n",
              "      <td>1.0</td>\n",
              "      <td>113.0</td>\n",
              "      <td>459.0</td>\n",
              "      <td>0.0</td>\n",
              "      <td>459.0</td>\n",
              "      <td>459.0</td>\n",
              "      <td>459.0</td>\n",
              "      <td>459.0</td>\n",
              "      <td>459.0</td>\n",
              "      <td>113.0</td>\n",
              "      <td>0.053097</td>\n",
              "      <td>0.225226</td>\n",
              "      <td>0.0</td>\n",
              "      <td>0.0</td>\n",
              "      <td>0.0</td>\n",
              "      <td>0.0</td>\n",
              "      <td>1.0</td>\n",
              "      <td>113.0</td>\n",
              "      <td>0.0</td>\n",
              "      <td>0.0</td>\n",
              "      <td>0.0</td>\n",
              "      <td>0.0</td>\n",
              "      <td>0.0</td>\n",
              "      <td>0.0</td>\n",
              "      <td>0.0</td>\n",
              "      <td>113.0</td>\n",
              "      <td>0.0</td>\n",
              "      <td>0.0</td>\n",
              "      <td>0.0</td>\n",
              "      <td>0.0</td>\n",
              "      <td>0.0</td>\n",
              "      <td>0.0</td>\n",
              "      <td>0.0</td>\n",
              "      <td>113.0</td>\n",
              "      <td>1.0</td>\n",
              "      <td>0.0</td>\n",
              "      <td>1.0</td>\n",
              "      <td>1.0</td>\n",
              "      <td>1.0</td>\n",
              "      <td>1.0</td>\n",
              "      <td>1.0</td>\n",
              "    </tr>\n",
              "    <tr>\n",
              "      <th>黃貫中英雄有分數演唱會</th>\n",
              "      <th>2016-04-30 19:30:00</th>\n",
              "      <td>1029.0</td>\n",
              "      <td>17285.0</td>\n",
              "      <td>0.0</td>\n",
              "      <td>17285.0</td>\n",
              "      <td>17285.0</td>\n",
              "      <td>17285.0</td>\n",
              "      <td>17285.0</td>\n",
              "      <td>17285.0</td>\n",
              "      <td>1029.0</td>\n",
              "      <td>3211.467444</td>\n",
              "      <td>809.732076</td>\n",
              "      <td>1800.0</td>\n",
              "      <td>2800.0</td>\n",
              "      <td>3800.0</td>\n",
              "      <td>3800.0</td>\n",
              "      <td>3800.0</td>\n",
              "      <td>1029.0</td>\n",
              "      <td>1829.698737</td>\n",
              "      <td>1568.109970</td>\n",
              "      <td>0.0</td>\n",
              "      <td>10.0</td>\n",
              "      <td>1800.0</td>\n",
              "      <td>3800.0</td>\n",
              "      <td>3800.0</td>\n",
              "      <td>1029.0</td>\n",
              "      <td>1.0</td>\n",
              "      <td>0.0</td>\n",
              "      <td>1.0</td>\n",
              "      <td>1.0</td>\n",
              "      <td>1.0</td>\n",
              "      <td>1.0</td>\n",
              "      <td>1.0</td>\n",
              "      <td>1029.0</td>\n",
              "      <td>3130.0</td>\n",
              "      <td>0.0</td>\n",
              "      <td>3130.0</td>\n",
              "      <td>3130.0</td>\n",
              "      <td>3130.0</td>\n",
              "      <td>3130.0</td>\n",
              "      <td>3130.0</td>\n",
              "      <td>1029.0</td>\n",
              "      <td>0.140914</td>\n",
              "      <td>0.348101</td>\n",
              "      <td>0.0</td>\n",
              "      <td>0.0</td>\n",
              "      <td>0.0</td>\n",
              "      <td>0.0</td>\n",
              "      <td>1.0</td>\n",
              "      <td>1029.0</td>\n",
              "      <td>0.0</td>\n",
              "      <td>0.0</td>\n",
              "      <td>0.0</td>\n",
              "      <td>0.0</td>\n",
              "      <td>0.0</td>\n",
              "      <td>0.0</td>\n",
              "      <td>0.0</td>\n",
              "      <td>1029.0</td>\n",
              "      <td>0.0</td>\n",
              "      <td>0.0</td>\n",
              "      <td>0.0</td>\n",
              "      <td>0.0</td>\n",
              "      <td>0.0</td>\n",
              "      <td>0.0</td>\n",
              "      <td>0.0</td>\n",
              "      <td>1029.0</td>\n",
              "      <td>0.0</td>\n",
              "      <td>0.0</td>\n",
              "      <td>0.0</td>\n",
              "      <td>0.0</td>\n",
              "      <td>0.0</td>\n",
              "      <td>0.0</td>\n",
              "      <td>0.0</td>\n",
              "    </tr>\n",
              "    <tr>\n",
              "      <th>黃玠[關於那些記得的事]巡迴演唱會-台中場</th>\n",
              "      <th>2016-11-26 20:00:00</th>\n",
              "      <td>422.0</td>\n",
              "      <td>17736.0</td>\n",
              "      <td>0.0</td>\n",
              "      <td>17736.0</td>\n",
              "      <td>17736.0</td>\n",
              "      <td>17736.0</td>\n",
              "      <td>17736.0</td>\n",
              "      <td>17736.0</td>\n",
              "      <td>422.0</td>\n",
              "      <td>996.445498</td>\n",
              "      <td>42.057201</td>\n",
              "      <td>500.0</td>\n",
              "      <td>1000.0</td>\n",
              "      <td>1000.0</td>\n",
              "      <td>1000.0</td>\n",
              "      <td>1000.0</td>\n",
              "      <td>422.0</td>\n",
              "      <td>919.023697</td>\n",
              "      <td>55.356752</td>\n",
              "      <td>500.0</td>\n",
              "      <td>899.0</td>\n",
              "      <td>899.0</td>\n",
              "      <td>899.0</td>\n",
              "      <td>1000.0</td>\n",
              "      <td>422.0</td>\n",
              "      <td>2.0</td>\n",
              "      <td>0.0</td>\n",
              "      <td>2.0</td>\n",
              "      <td>2.0</td>\n",
              "      <td>2.0</td>\n",
              "      <td>2.0</td>\n",
              "      <td>2.0</td>\n",
              "      <td>422.0</td>\n",
              "      <td>482.0</td>\n",
              "      <td>0.0</td>\n",
              "      <td>482.0</td>\n",
              "      <td>482.0</td>\n",
              "      <td>482.0</td>\n",
              "      <td>482.0</td>\n",
              "      <td>482.0</td>\n",
              "      <td>422.0</td>\n",
              "      <td>0.215640</td>\n",
              "      <td>0.411754</td>\n",
              "      <td>0.0</td>\n",
              "      <td>0.0</td>\n",
              "      <td>0.0</td>\n",
              "      <td>0.0</td>\n",
              "      <td>1.0</td>\n",
              "      <td>422.0</td>\n",
              "      <td>0.0</td>\n",
              "      <td>0.0</td>\n",
              "      <td>0.0</td>\n",
              "      <td>0.0</td>\n",
              "      <td>0.0</td>\n",
              "      <td>0.0</td>\n",
              "      <td>0.0</td>\n",
              "      <td>422.0</td>\n",
              "      <td>0.0</td>\n",
              "      <td>0.0</td>\n",
              "      <td>0.0</td>\n",
              "      <td>0.0</td>\n",
              "      <td>0.0</td>\n",
              "      <td>0.0</td>\n",
              "      <td>0.0</td>\n",
              "      <td>422.0</td>\n",
              "      <td>0.0</td>\n",
              "      <td>0.0</td>\n",
              "      <td>0.0</td>\n",
              "      <td>0.0</td>\n",
              "      <td>0.0</td>\n",
              "      <td>0.0</td>\n",
              "      <td>0.0</td>\n",
              "    </tr>\n",
              "    <tr>\n",
              "      <th rowspan=\"2\" valign=\"top\">饒夢霞_如歌人生2016愛您一路公益說唱會</th>\n",
              "      <th>2016-12-17 14:00:00</th>\n",
              "      <td>492.0</td>\n",
              "      <td>17353.0</td>\n",
              "      <td>0.0</td>\n",
              "      <td>17353.0</td>\n",
              "      <td>17353.0</td>\n",
              "      <td>17353.0</td>\n",
              "      <td>17353.0</td>\n",
              "      <td>17353.0</td>\n",
              "      <td>492.0</td>\n",
              "      <td>812.865854</td>\n",
              "      <td>317.615412</td>\n",
              "      <td>10.0</td>\n",
              "      <td>500.0</td>\n",
              "      <td>800.0</td>\n",
              "      <td>1200.0</td>\n",
              "      <td>1200.0</td>\n",
              "      <td>492.0</td>\n",
              "      <td>704.126016</td>\n",
              "      <td>430.492363</td>\n",
              "      <td>0.0</td>\n",
              "      <td>500.0</td>\n",
              "      <td>800.0</td>\n",
              "      <td>1200.0</td>\n",
              "      <td>1200.0</td>\n",
              "      <td>492.0</td>\n",
              "      <td>2.0</td>\n",
              "      <td>0.0</td>\n",
              "      <td>2.0</td>\n",
              "      <td>2.0</td>\n",
              "      <td>2.0</td>\n",
              "      <td>2.0</td>\n",
              "      <td>2.0</td>\n",
              "      <td>492.0</td>\n",
              "      <td>1232.0</td>\n",
              "      <td>0.0</td>\n",
              "      <td>1232.0</td>\n",
              "      <td>1232.0</td>\n",
              "      <td>1232.0</td>\n",
              "      <td>1232.0</td>\n",
              "      <td>1232.0</td>\n",
              "      <td>492.0</td>\n",
              "      <td>0.034553</td>\n",
              "      <td>0.182830</td>\n",
              "      <td>0.0</td>\n",
              "      <td>0.0</td>\n",
              "      <td>0.0</td>\n",
              "      <td>0.0</td>\n",
              "      <td>1.0</td>\n",
              "      <td>492.0</td>\n",
              "      <td>0.0</td>\n",
              "      <td>0.0</td>\n",
              "      <td>0.0</td>\n",
              "      <td>0.0</td>\n",
              "      <td>0.0</td>\n",
              "      <td>0.0</td>\n",
              "      <td>0.0</td>\n",
              "      <td>492.0</td>\n",
              "      <td>0.0</td>\n",
              "      <td>0.0</td>\n",
              "      <td>0.0</td>\n",
              "      <td>0.0</td>\n",
              "      <td>0.0</td>\n",
              "      <td>0.0</td>\n",
              "      <td>0.0</td>\n",
              "      <td>492.0</td>\n",
              "      <td>0.0</td>\n",
              "      <td>0.0</td>\n",
              "      <td>0.0</td>\n",
              "      <td>0.0</td>\n",
              "      <td>0.0</td>\n",
              "      <td>0.0</td>\n",
              "      <td>0.0</td>\n",
              "    </tr>\n",
              "    <tr>\n",
              "      <th>2016-12-16 19:00:00</th>\n",
              "      <td>618.0</td>\n",
              "      <td>17353.0</td>\n",
              "      <td>0.0</td>\n",
              "      <td>17353.0</td>\n",
              "      <td>17353.0</td>\n",
              "      <td>17353.0</td>\n",
              "      <td>17353.0</td>\n",
              "      <td>17353.0</td>\n",
              "      <td>618.0</td>\n",
              "      <td>747.669903</td>\n",
              "      <td>302.563988</td>\n",
              "      <td>10.0</td>\n",
              "      <td>500.0</td>\n",
              "      <td>800.0</td>\n",
              "      <td>800.0</td>\n",
              "      <td>1200.0</td>\n",
              "      <td>618.0</td>\n",
              "      <td>490.987055</td>\n",
              "      <td>360.896816</td>\n",
              "      <td>0.0</td>\n",
              "      <td>250.0</td>\n",
              "      <td>500.0</td>\n",
              "      <td>800.0</td>\n",
              "      <td>1200.0</td>\n",
              "      <td>618.0</td>\n",
              "      <td>5.0</td>\n",
              "      <td>0.0</td>\n",
              "      <td>5.0</td>\n",
              "      <td>5.0</td>\n",
              "      <td>5.0</td>\n",
              "      <td>5.0</td>\n",
              "      <td>5.0</td>\n",
              "      <td>618.0</td>\n",
              "      <td>936.0</td>\n",
              "      <td>0.0</td>\n",
              "      <td>936.0</td>\n",
              "      <td>936.0</td>\n",
              "      <td>936.0</td>\n",
              "      <td>936.0</td>\n",
              "      <td>936.0</td>\n",
              "      <td>618.0</td>\n",
              "      <td>0.009709</td>\n",
              "      <td>0.098133</td>\n",
              "      <td>0.0</td>\n",
              "      <td>0.0</td>\n",
              "      <td>0.0</td>\n",
              "      <td>0.0</td>\n",
              "      <td>1.0</td>\n",
              "      <td>618.0</td>\n",
              "      <td>0.0</td>\n",
              "      <td>0.0</td>\n",
              "      <td>0.0</td>\n",
              "      <td>0.0</td>\n",
              "      <td>0.0</td>\n",
              "      <td>0.0</td>\n",
              "      <td>0.0</td>\n",
              "      <td>618.0</td>\n",
              "      <td>0.0</td>\n",
              "      <td>0.0</td>\n",
              "      <td>0.0</td>\n",
              "      <td>0.0</td>\n",
              "      <td>0.0</td>\n",
              "      <td>0.0</td>\n",
              "      <td>0.0</td>\n",
              "      <td>618.0</td>\n",
              "      <td>0.0</td>\n",
              "      <td>0.0</td>\n",
              "      <td>0.0</td>\n",
              "      <td>0.0</td>\n",
              "      <td>0.0</td>\n",
              "      <td>0.0</td>\n",
              "      <td>0.0</td>\n",
              "    </tr>\n",
              "    <tr>\n",
              "      <th>...</th>\n",
              "      <th>...</th>\n",
              "      <td>...</td>\n",
              "      <td>...</td>\n",
              "      <td>...</td>\n",
              "      <td>...</td>\n",
              "      <td>...</td>\n",
              "      <td>...</td>\n",
              "      <td>...</td>\n",
              "      <td>...</td>\n",
              "      <td>...</td>\n",
              "      <td>...</td>\n",
              "      <td>...</td>\n",
              "      <td>...</td>\n",
              "      <td>...</td>\n",
              "      <td>...</td>\n",
              "      <td>...</td>\n",
              "      <td>...</td>\n",
              "      <td>...</td>\n",
              "      <td>...</td>\n",
              "      <td>...</td>\n",
              "      <td>...</td>\n",
              "      <td>...</td>\n",
              "      <td>...</td>\n",
              "      <td>...</td>\n",
              "      <td>...</td>\n",
              "      <td>...</td>\n",
              "      <td>...</td>\n",
              "      <td>...</td>\n",
              "      <td>...</td>\n",
              "      <td>...</td>\n",
              "      <td>...</td>\n",
              "      <td>...</td>\n",
              "      <td>...</td>\n",
              "      <td>...</td>\n",
              "      <td>...</td>\n",
              "      <td>...</td>\n",
              "      <td>...</td>\n",
              "      <td>...</td>\n",
              "      <td>...</td>\n",
              "      <td>...</td>\n",
              "      <td>...</td>\n",
              "      <td>...</td>\n",
              "      <td>...</td>\n",
              "      <td>...</td>\n",
              "      <td>...</td>\n",
              "      <td>...</td>\n",
              "      <td>...</td>\n",
              "      <td>...</td>\n",
              "      <td>...</td>\n",
              "      <td>...</td>\n",
              "      <td>...</td>\n",
              "      <td>...</td>\n",
              "      <td>...</td>\n",
              "      <td>...</td>\n",
              "      <td>...</td>\n",
              "      <td>...</td>\n",
              "      <td>...</td>\n",
              "      <td>...</td>\n",
              "      <td>...</td>\n",
              "      <td>...</td>\n",
              "      <td>...</td>\n",
              "      <td>...</td>\n",
              "      <td>...</td>\n",
              "      <td>...</td>\n",
              "      <td>...</td>\n",
              "      <td>...</td>\n",
              "      <td>...</td>\n",
              "      <td>...</td>\n",
              "      <td>...</td>\n",
              "      <td>...</td>\n",
              "      <td>...</td>\n",
              "      <td>...</td>\n",
              "      <td>...</td>\n",
              "    </tr>\n",
              "    <tr>\n",
              "      <th>2015懷念歌廳秀巡迴演出</th>\n",
              "      <th>2015-05-09 19:00:00</th>\n",
              "      <td>1796.0</td>\n",
              "      <td>16342.0</td>\n",
              "      <td>0.0</td>\n",
              "      <td>16342.0</td>\n",
              "      <td>16342.0</td>\n",
              "      <td>16342.0</td>\n",
              "      <td>16342.0</td>\n",
              "      <td>16342.0</td>\n",
              "      <td>1796.0</td>\n",
              "      <td>1696.659243</td>\n",
              "      <td>621.768506</td>\n",
              "      <td>800.0</td>\n",
              "      <td>1600.0</td>\n",
              "      <td>1600.0</td>\n",
              "      <td>2000.0</td>\n",
              "      <td>2800.0</td>\n",
              "      <td>1796.0</td>\n",
              "      <td>469.465479</td>\n",
              "      <td>701.780262</td>\n",
              "      <td>0.0</td>\n",
              "      <td>0.0</td>\n",
              "      <td>0.0</td>\n",
              "      <td>760.0</td>\n",
              "      <td>2800.0</td>\n",
              "      <td>1796.0</td>\n",
              "      <td>3.0</td>\n",
              "      <td>0.0</td>\n",
              "      <td>3.0</td>\n",
              "      <td>3.0</td>\n",
              "      <td>3.0</td>\n",
              "      <td>3.0</td>\n",
              "      <td>3.0</td>\n",
              "      <td>1796.0</td>\n",
              "      <td>1800.0</td>\n",
              "      <td>0.0</td>\n",
              "      <td>1800.0</td>\n",
              "      <td>1800.0</td>\n",
              "      <td>1800.0</td>\n",
              "      <td>1800.0</td>\n",
              "      <td>1800.0</td>\n",
              "      <td>1796.0</td>\n",
              "      <td>0.036748</td>\n",
              "      <td>0.188196</td>\n",
              "      <td>0.0</td>\n",
              "      <td>0.0</td>\n",
              "      <td>0.0</td>\n",
              "      <td>0.0</td>\n",
              "      <td>1.0</td>\n",
              "      <td>1796.0</td>\n",
              "      <td>0.0</td>\n",
              "      <td>0.0</td>\n",
              "      <td>0.0</td>\n",
              "      <td>0.0</td>\n",
              "      <td>0.0</td>\n",
              "      <td>0.0</td>\n",
              "      <td>0.0</td>\n",
              "      <td>1796.0</td>\n",
              "      <td>0.0</td>\n",
              "      <td>0.0</td>\n",
              "      <td>0.0</td>\n",
              "      <td>0.0</td>\n",
              "      <td>0.0</td>\n",
              "      <td>0.0</td>\n",
              "      <td>0.0</td>\n",
              "      <td>1796.0</td>\n",
              "      <td>0.0</td>\n",
              "      <td>0.0</td>\n",
              "      <td>0.0</td>\n",
              "      <td>0.0</td>\n",
              "      <td>0.0</td>\n",
              "      <td>0.0</td>\n",
              "      <td>0.0</td>\n",
              "    </tr>\n",
              "    <tr>\n",
              "      <th>2015八代亞紀\"台灣你好\"夏日金曲演唱會</th>\n",
              "      <th>2015-06-28 19:30:00</th>\n",
              "      <td>2783.0</td>\n",
              "      <td>16502.0</td>\n",
              "      <td>0.0</td>\n",
              "      <td>16502.0</td>\n",
              "      <td>16502.0</td>\n",
              "      <td>16502.0</td>\n",
              "      <td>16502.0</td>\n",
              "      <td>16502.0</td>\n",
              "      <td>2783.0</td>\n",
              "      <td>3121.307941</td>\n",
              "      <td>1149.986159</td>\n",
              "      <td>1200.0</td>\n",
              "      <td>2500.0</td>\n",
              "      <td>3500.0</td>\n",
              "      <td>4000.0</td>\n",
              "      <td>4800.0</td>\n",
              "      <td>2783.0</td>\n",
              "      <td>1701.264822</td>\n",
              "      <td>1709.875385</td>\n",
              "      <td>0.0</td>\n",
              "      <td>10.0</td>\n",
              "      <td>1200.0</td>\n",
              "      <td>3500.0</td>\n",
              "      <td>4800.0</td>\n",
              "      <td>2783.0</td>\n",
              "      <td>1.0</td>\n",
              "      <td>0.0</td>\n",
              "      <td>1.0</td>\n",
              "      <td>1.0</td>\n",
              "      <td>1.0</td>\n",
              "      <td>1.0</td>\n",
              "      <td>1.0</td>\n",
              "      <td>2783.0</td>\n",
              "      <td>3126.0</td>\n",
              "      <td>0.0</td>\n",
              "      <td>3126.0</td>\n",
              "      <td>3126.0</td>\n",
              "      <td>3126.0</td>\n",
              "      <td>3126.0</td>\n",
              "      <td>3126.0</td>\n",
              "      <td>2783.0</td>\n",
              "      <td>0.078333</td>\n",
              "      <td>0.268743</td>\n",
              "      <td>0.0</td>\n",
              "      <td>0.0</td>\n",
              "      <td>0.0</td>\n",
              "      <td>0.0</td>\n",
              "      <td>1.0</td>\n",
              "      <td>2783.0</td>\n",
              "      <td>0.0</td>\n",
              "      <td>0.0</td>\n",
              "      <td>0.0</td>\n",
              "      <td>0.0</td>\n",
              "      <td>0.0</td>\n",
              "      <td>0.0</td>\n",
              "      <td>0.0</td>\n",
              "      <td>2783.0</td>\n",
              "      <td>0.0</td>\n",
              "      <td>0.0</td>\n",
              "      <td>0.0</td>\n",
              "      <td>0.0</td>\n",
              "      <td>0.0</td>\n",
              "      <td>0.0</td>\n",
              "      <td>0.0</td>\n",
              "      <td>2783.0</td>\n",
              "      <td>0.0</td>\n",
              "      <td>0.0</td>\n",
              "      <td>0.0</td>\n",
              "      <td>0.0</td>\n",
              "      <td>0.0</td>\n",
              "      <td>0.0</td>\n",
              "      <td>0.0</td>\n",
              "    </tr>\n",
              "    <tr>\n",
              "      <th>2015_TOKU_Live_Concert_in_Taipei-日本爵士巨擘TOKU-2015台北演唱會</th>\n",
              "      <th>2015-11-26 19:30:00</th>\n",
              "      <td>49.0</td>\n",
              "      <td>16968.0</td>\n",
              "      <td>0.0</td>\n",
              "      <td>16968.0</td>\n",
              "      <td>16968.0</td>\n",
              "      <td>16968.0</td>\n",
              "      <td>16968.0</td>\n",
              "      <td>16968.0</td>\n",
              "      <td>49.0</td>\n",
              "      <td>2000.000000</td>\n",
              "      <td>0.000000</td>\n",
              "      <td>2000.0</td>\n",
              "      <td>2000.0</td>\n",
              "      <td>2000.0</td>\n",
              "      <td>2000.0</td>\n",
              "      <td>2000.0</td>\n",
              "      <td>49.0</td>\n",
              "      <td>2000.000000</td>\n",
              "      <td>0.000000</td>\n",
              "      <td>2000.0</td>\n",
              "      <td>2000.0</td>\n",
              "      <td>2000.0</td>\n",
              "      <td>2000.0</td>\n",
              "      <td>2000.0</td>\n",
              "      <td>49.0</td>\n",
              "      <td>1.0</td>\n",
              "      <td>0.0</td>\n",
              "      <td>1.0</td>\n",
              "      <td>1.0</td>\n",
              "      <td>1.0</td>\n",
              "      <td>1.0</td>\n",
              "      <td>1.0</td>\n",
              "      <td>49.0</td>\n",
              "      <td>200.0</td>\n",
              "      <td>0.0</td>\n",
              "      <td>200.0</td>\n",
              "      <td>200.0</td>\n",
              "      <td>200.0</td>\n",
              "      <td>200.0</td>\n",
              "      <td>200.0</td>\n",
              "      <td>49.0</td>\n",
              "      <td>0.102041</td>\n",
              "      <td>0.305839</td>\n",
              "      <td>0.0</td>\n",
              "      <td>0.0</td>\n",
              "      <td>0.0</td>\n",
              "      <td>0.0</td>\n",
              "      <td>1.0</td>\n",
              "      <td>49.0</td>\n",
              "      <td>0.0</td>\n",
              "      <td>0.0</td>\n",
              "      <td>0.0</td>\n",
              "      <td>0.0</td>\n",
              "      <td>0.0</td>\n",
              "      <td>0.0</td>\n",
              "      <td>0.0</td>\n",
              "      <td>49.0</td>\n",
              "      <td>0.0</td>\n",
              "      <td>0.0</td>\n",
              "      <td>0.0</td>\n",
              "      <td>0.0</td>\n",
              "      <td>0.0</td>\n",
              "      <td>0.0</td>\n",
              "      <td>0.0</td>\n",
              "      <td>49.0</td>\n",
              "      <td>0.0</td>\n",
              "      <td>0.0</td>\n",
              "      <td>0.0</td>\n",
              "      <td>0.0</td>\n",
              "      <td>0.0</td>\n",
              "      <td>0.0</td>\n",
              "      <td>0.0</td>\n",
              "    </tr>\n",
              "    <tr>\n",
              "      <th rowspan=\"2\" valign=\"top\">2015[世紀巨星風華絕代]金曲演唱會</th>\n",
              "      <th>2015-08-15 19:30:00</th>\n",
              "      <td>1465.0</td>\n",
              "      <td>16562.0</td>\n",
              "      <td>0.0</td>\n",
              "      <td>16562.0</td>\n",
              "      <td>16562.0</td>\n",
              "      <td>16562.0</td>\n",
              "      <td>16562.0</td>\n",
              "      <td>16562.0</td>\n",
              "      <td>1465.0</td>\n",
              "      <td>2869.897611</td>\n",
              "      <td>1577.767255</td>\n",
              "      <td>10.0</td>\n",
              "      <td>1880.0</td>\n",
              "      <td>3280.0</td>\n",
              "      <td>3880.0</td>\n",
              "      <td>4680.0</td>\n",
              "      <td>1465.0</td>\n",
              "      <td>1189.422526</td>\n",
              "      <td>1503.221447</td>\n",
              "      <td>0.0</td>\n",
              "      <td>10.0</td>\n",
              "      <td>10.0</td>\n",
              "      <td>2280.0</td>\n",
              "      <td>4680.0</td>\n",
              "      <td>1465.0</td>\n",
              "      <td>1.0</td>\n",
              "      <td>0.0</td>\n",
              "      <td>1.0</td>\n",
              "      <td>1.0</td>\n",
              "      <td>1.0</td>\n",
              "      <td>1.0</td>\n",
              "      <td>1.0</td>\n",
              "      <td>1465.0</td>\n",
              "      <td>3129.0</td>\n",
              "      <td>0.0</td>\n",
              "      <td>3129.0</td>\n",
              "      <td>3129.0</td>\n",
              "      <td>3129.0</td>\n",
              "      <td>3129.0</td>\n",
              "      <td>3129.0</td>\n",
              "      <td>1465.0</td>\n",
              "      <td>0.088055</td>\n",
              "      <td>0.283471</td>\n",
              "      <td>0.0</td>\n",
              "      <td>0.0</td>\n",
              "      <td>0.0</td>\n",
              "      <td>0.0</td>\n",
              "      <td>1.0</td>\n",
              "      <td>1465.0</td>\n",
              "      <td>0.0</td>\n",
              "      <td>0.0</td>\n",
              "      <td>0.0</td>\n",
              "      <td>0.0</td>\n",
              "      <td>0.0</td>\n",
              "      <td>0.0</td>\n",
              "      <td>0.0</td>\n",
              "      <td>1465.0</td>\n",
              "      <td>1.0</td>\n",
              "      <td>0.0</td>\n",
              "      <td>1.0</td>\n",
              "      <td>1.0</td>\n",
              "      <td>1.0</td>\n",
              "      <td>1.0</td>\n",
              "      <td>1.0</td>\n",
              "      <td>1465.0</td>\n",
              "      <td>0.0</td>\n",
              "      <td>0.0</td>\n",
              "      <td>0.0</td>\n",
              "      <td>0.0</td>\n",
              "      <td>0.0</td>\n",
              "      <td>0.0</td>\n",
              "      <td>0.0</td>\n",
              "    </tr>\n",
              "    <tr>\n",
              "      <th>2015-08-14 19:30:00</th>\n",
              "      <td>1219.0</td>\n",
              "      <td>16562.0</td>\n",
              "      <td>0.0</td>\n",
              "      <td>16562.0</td>\n",
              "      <td>16562.0</td>\n",
              "      <td>16562.0</td>\n",
              "      <td>16562.0</td>\n",
              "      <td>16562.0</td>\n",
              "      <td>1219.0</td>\n",
              "      <td>2735.406071</td>\n",
              "      <td>1619.425306</td>\n",
              "      <td>10.0</td>\n",
              "      <td>1280.0</td>\n",
              "      <td>3280.0</td>\n",
              "      <td>3880.0</td>\n",
              "      <td>4680.0</td>\n",
              "      <td>1219.0</td>\n",
              "      <td>1221.207547</td>\n",
              "      <td>1517.716652</td>\n",
              "      <td>0.0</td>\n",
              "      <td>10.0</td>\n",
              "      <td>10.0</td>\n",
              "      <td>2280.0</td>\n",
              "      <td>4680.0</td>\n",
              "      <td>1219.0</td>\n",
              "      <td>1.0</td>\n",
              "      <td>0.0</td>\n",
              "      <td>1.0</td>\n",
              "      <td>1.0</td>\n",
              "      <td>1.0</td>\n",
              "      <td>1.0</td>\n",
              "      <td>1.0</td>\n",
              "      <td>1219.0</td>\n",
              "      <td>3129.0</td>\n",
              "      <td>0.0</td>\n",
              "      <td>3129.0</td>\n",
              "      <td>3129.0</td>\n",
              "      <td>3129.0</td>\n",
              "      <td>3129.0</td>\n",
              "      <td>3129.0</td>\n",
              "      <td>1219.0</td>\n",
              "      <td>0.082034</td>\n",
              "      <td>0.274530</td>\n",
              "      <td>0.0</td>\n",
              "      <td>0.0</td>\n",
              "      <td>0.0</td>\n",
              "      <td>0.0</td>\n",
              "      <td>1.0</td>\n",
              "      <td>1219.0</td>\n",
              "      <td>0.0</td>\n",
              "      <td>0.0</td>\n",
              "      <td>0.0</td>\n",
              "      <td>0.0</td>\n",
              "      <td>0.0</td>\n",
              "      <td>0.0</td>\n",
              "      <td>0.0</td>\n",
              "      <td>1219.0</td>\n",
              "      <td>1.0</td>\n",
              "      <td>0.0</td>\n",
              "      <td>1.0</td>\n",
              "      <td>1.0</td>\n",
              "      <td>1.0</td>\n",
              "      <td>1.0</td>\n",
              "      <td>1.0</td>\n",
              "      <td>1219.0</td>\n",
              "      <td>0.0</td>\n",
              "      <td>0.0</td>\n",
              "      <td>0.0</td>\n",
              "      <td>0.0</td>\n",
              "      <td>0.0</td>\n",
              "      <td>0.0</td>\n",
              "      <td>0.0</td>\n",
              "    </tr>\n",
              "  </tbody>\n",
              "</table>\n",
              "<p>180 rows × 72 columns</p>\n",
              "</div>"
            ],
            "text/plain": [
              "                                                                       ConcertId  ... Winter_vacation\n",
              "                                                                           count  ...             max\n",
              "ConcertName                                        ReleaseDateTime                ...                \n",
              "齋賀光希+阿部敦_W_Event_in_Taiwan                         2017-01-22 17:00:00     113.0  ...             1.0\n",
              "黃貫中英雄有分數演唱會                                        2016-04-30 19:30:00    1029.0  ...             0.0\n",
              "黃玠[關於那些記得的事]巡迴演唱會-台中場                              2016-11-26 20:00:00     422.0  ...             0.0\n",
              "饒夢霞_如歌人生2016愛您一路公益說唱會                              2016-12-17 14:00:00     492.0  ...             0.0\n",
              "                                                   2016-12-16 19:00:00     618.0  ...             0.0\n",
              "...                                                                          ...  ...             ...\n",
              "2015懷念歌廳秀巡迴演出                                      2015-05-09 19:00:00    1796.0  ...             0.0\n",
              "2015八代亞紀\"台灣你好\"夏日金曲演唱會                              2015-06-28 19:30:00    2783.0  ...             0.0\n",
              "2015_TOKU_Live_Concert_in_Taipei-日本爵士巨擘TOKU-201... 2015-11-26 19:30:00      49.0  ...             0.0\n",
              "2015[世紀巨星風華絕代]金曲演唱會                                2015-08-15 19:30:00    1465.0  ...             0.0\n",
              "                                                   2015-08-14 19:30:00    1219.0  ...             0.0\n",
              "\n",
              "[180 rows x 72 columns]"
            ]
          },
          "metadata": {
            "tags": []
          },
          "execution_count": 11
        }
      ]
    },
    {
      "cell_type": "markdown",
      "metadata": {
        "id": "z8ZM9xWoBDPG"
      },
      "source": [
        "# Rename columns"
      ]
    },
    {
      "cell_type": "code",
      "metadata": {
        "id": "A4TTwLOwyGdr"
      },
      "source": [
        "data = pd.merge(concert_info[\"ConcertId\"][\"mean\"], number_visitors, how = 'inner', on = ['ConcertName', 'ReleaseDateTime'])\n",
        "data = data.rename(columns = {\"mean\": \"ConcertId\"}, inplace = False)"
      ],
      "execution_count": null,
      "outputs": []
    },
    {
      "cell_type": "code",
      "metadata": {
        "id": "l1GtcpvZ1Rqx"
      },
      "source": [
        "data = pd.merge(concert_info[\"ListPrice\"][\"min\"], data, how = 'inner', on = ['ConcertName', 'ReleaseDateTime'])"
      ],
      "execution_count": null,
      "outputs": []
    },
    {
      "cell_type": "code",
      "metadata": {
        "id": "I3kV7-FL3kHY"
      },
      "source": [
        "data = data.rename(columns = {\"min\": \"ListPriceMin\"}, inplace = False)"
      ],
      "execution_count": null,
      "outputs": []
    },
    {
      "cell_type": "code",
      "metadata": {
        "id": "FYvXJHm71p2c"
      },
      "source": [
        "data = pd.merge(concert_info[\"ListPrice\"][\"max\"], data, how = 'inner', on = ['ConcertName', 'ReleaseDateTime'])"
      ],
      "execution_count": null,
      "outputs": []
    },
    {
      "cell_type": "code",
      "metadata": {
        "id": "9VnbD7643zfW"
      },
      "source": [
        "data = data.rename(columns = {\"max\": \"ListPriceMax\"}, inplace = False)"
      ],
      "execution_count": null,
      "outputs": []
    },
    {
      "cell_type": "code",
      "metadata": {
        "id": "tK-P92df1p8L"
      },
      "source": [
        "data = pd.merge(concert_info[\"SoldPrice\"][\"min\"], data, how = 'inner', on = ['ConcertName', 'ReleaseDateTime'])\n",
        "data = pd.merge(concert_info[\"SoldPrice\"][\"max\"], data, how = 'inner', on = ['ConcertName', 'ReleaseDateTime'])"
      ],
      "execution_count": null,
      "outputs": []
    },
    {
      "cell_type": "code",
      "metadata": {
        "id": "Jeo0H0mK3843"
      },
      "source": [
        "data = data.rename(columns = {\"min\": \"SoldPriceMin\"}, inplace = False)\n",
        "data = data.rename(columns = {\"max\": \"SoldPriceMax\"}, inplace = False)"
      ],
      "execution_count": null,
      "outputs": []
    },
    {
      "cell_type": "code",
      "metadata": {
        "id": "5M1M2WKU1qIj"
      },
      "source": [
        "data = pd.merge(concert_info[\"TotalSeat\"][\"mean\"], data, how = 'inner', on = ['ConcertName', 'ReleaseDateTime'])"
      ],
      "execution_count": null,
      "outputs": []
    },
    {
      "cell_type": "code",
      "metadata": {
        "id": "MMLQknl-4I8f"
      },
      "source": [
        "data = data.rename(columns = {\"mean\": \"TotalSeat\"}, inplace = False)"
      ],
      "execution_count": null,
      "outputs": []
    },
    {
      "cell_type": "code",
      "metadata": {
        "id": "ouPWbx1t2dRC"
      },
      "source": [
        "data = pd.merge(concert_info[\"Sex\"][\"mean\"], data, how = 'inner', on = ['ConcertName', 'ReleaseDateTime'])"
      ],
      "execution_count": null,
      "outputs": []
    },
    {
      "cell_type": "code",
      "metadata": {
        "id": "SlYgLFID4nmF"
      },
      "source": [
        "data = data.rename(columns = {\"mean\": \"SexRatio\"}, inplace = False)"
      ],
      "execution_count": null,
      "outputs": []
    },
    {
      "cell_type": "code",
      "metadata": {
        "id": "GZYMI6T72nRQ"
      },
      "source": [
        "data = pd.merge(concert_info[\"Holiday\"][\"mean\"], data, how = 'inner', on = ['ConcertName', 'ReleaseDateTime'])"
      ],
      "execution_count": null,
      "outputs": []
    },
    {
      "cell_type": "code",
      "metadata": {
        "id": "1bS45kbM4wQf"
      },
      "source": [
        "data = data.rename(columns = {\"mean\": \"Holiday\"}, inplace = False)"
      ],
      "execution_count": null,
      "outputs": []
    },
    {
      "cell_type": "code",
      "metadata": {
        "id": "PNmw6-TU2nW2"
      },
      "source": [
        "data = pd.merge(concert_info[\"Summer_vacation\"][\"mean\"], data, how = 'inner', on = ['ConcertName', 'ReleaseDateTime'])"
      ],
      "execution_count": null,
      "outputs": []
    },
    {
      "cell_type": "code",
      "metadata": {
        "id": "bvsj0_sP41VQ"
      },
      "source": [
        "data = data.rename(columns = {\"mean\": \"Summer_vacation\"}, inplace = False)"
      ],
      "execution_count": null,
      "outputs": []
    },
    {
      "cell_type": "code",
      "metadata": {
        "id": "rxS8BoIH2njQ"
      },
      "source": [
        "data = pd.merge(concert_info[\"Winter_vacation\"][\"mean\"], data, how = 'inner', on = ['ConcertName', 'ReleaseDateTime'])"
      ],
      "execution_count": null,
      "outputs": []
    },
    {
      "cell_type": "code",
      "metadata": {
        "id": "ljJZEAry454L"
      },
      "source": [
        "data = data.rename(columns = {\"mean\": \"Winter_vacation\"}, inplace = False)"
      ],
      "execution_count": null,
      "outputs": []
    },
    {
      "cell_type": "code",
      "metadata": {
        "id": "iRyqNEj7HRAH"
      },
      "source": [
        "data = pd.merge(concert_info[\"VenueArea\"][\"mean\"], data, how = 'inner', on = ['ConcertName', 'ReleaseDateTime'])"
      ],
      "execution_count": null,
      "outputs": []
    },
    {
      "cell_type": "code",
      "metadata": {
        "id": "18i0iKHwHawf"
      },
      "source": [
        "data = data.rename(columns = {\"mean\": \"VenueArea\"}, inplace = False)"
      ],
      "execution_count": null,
      "outputs": []
    },
    {
      "cell_type": "markdown",
      "metadata": {
        "id": "lytJhavABaS_"
      },
      "source": [
        "# Prepare training&testing dataset "
      ]
    },
    {
      "cell_type": "code",
      "metadata": {
        "colab": {
          "base_uri": "https://localhost:8080/",
          "height": 640
        },
        "id": "Ij5yJgaey5_G",
        "outputId": "d7395d0a-1e18-4f71-b67a-11e69fa10027"
      },
      "source": [
        "data"
      ],
      "execution_count": null,
      "outputs": [
        {
          "output_type": "execute_result",
          "data": {
            "text/html": [
              "<div>\n",
              "<style scoped>\n",
              "    .dataframe tbody tr th:only-of-type {\n",
              "        vertical-align: middle;\n",
              "    }\n",
              "\n",
              "    .dataframe tbody tr th {\n",
              "        vertical-align: top;\n",
              "    }\n",
              "\n",
              "    .dataframe thead th {\n",
              "        text-align: right;\n",
              "    }\n",
              "</style>\n",
              "<table border=\"1\" class=\"dataframe\">\n",
              "  <thead>\n",
              "    <tr style=\"text-align: right;\">\n",
              "      <th></th>\n",
              "      <th></th>\n",
              "      <th>VenueArea</th>\n",
              "      <th>Winter_vacation</th>\n",
              "      <th>Summer_vacation</th>\n",
              "      <th>Holiday</th>\n",
              "      <th>SexRatio</th>\n",
              "      <th>TotalSeat</th>\n",
              "      <th>SoldPriceMax</th>\n",
              "      <th>SoldPriceMin</th>\n",
              "      <th>ListPriceMax</th>\n",
              "      <th>ListPriceMin</th>\n",
              "      <th>ConcertId</th>\n",
              "      <th>count_visitors</th>\n",
              "    </tr>\n",
              "    <tr>\n",
              "      <th>ConcertName</th>\n",
              "      <th>ReleaseDateTime</th>\n",
              "      <th></th>\n",
              "      <th></th>\n",
              "      <th></th>\n",
              "      <th></th>\n",
              "      <th></th>\n",
              "      <th></th>\n",
              "      <th></th>\n",
              "      <th></th>\n",
              "      <th></th>\n",
              "      <th></th>\n",
              "      <th></th>\n",
              "      <th></th>\n",
              "    </tr>\n",
              "  </thead>\n",
              "  <tbody>\n",
              "    <tr>\n",
              "      <th>齋賀光希+阿部敦_W_Event_in_Taiwan</th>\n",
              "      <th>2017-01-22 17:00:00</th>\n",
              "      <td>1.0</td>\n",
              "      <td>1.0</td>\n",
              "      <td>0.0</td>\n",
              "      <td>0.0</td>\n",
              "      <td>0.053097</td>\n",
              "      <td>459.0</td>\n",
              "      <td>2500.0</td>\n",
              "      <td>900.0</td>\n",
              "      <td>2500.0</td>\n",
              "      <td>900.0</td>\n",
              "      <td>17863.0</td>\n",
              "      <td>113</td>\n",
              "    </tr>\n",
              "    <tr>\n",
              "      <th>黃貫中英雄有分數演唱會</th>\n",
              "      <th>2016-04-30 19:30:00</th>\n",
              "      <td>1.0</td>\n",
              "      <td>0.0</td>\n",
              "      <td>0.0</td>\n",
              "      <td>0.0</td>\n",
              "      <td>0.140914</td>\n",
              "      <td>3130.0</td>\n",
              "      <td>3800.0</td>\n",
              "      <td>0.0</td>\n",
              "      <td>3800.0</td>\n",
              "      <td>1800.0</td>\n",
              "      <td>17285.0</td>\n",
              "      <td>1029</td>\n",
              "    </tr>\n",
              "    <tr>\n",
              "      <th>黃玠[關於那些記得的事]巡迴演唱會-台中場</th>\n",
              "      <th>2016-11-26 20:00:00</th>\n",
              "      <td>2.0</td>\n",
              "      <td>0.0</td>\n",
              "      <td>0.0</td>\n",
              "      <td>0.0</td>\n",
              "      <td>0.215640</td>\n",
              "      <td>482.0</td>\n",
              "      <td>1000.0</td>\n",
              "      <td>500.0</td>\n",
              "      <td>1000.0</td>\n",
              "      <td>500.0</td>\n",
              "      <td>17736.0</td>\n",
              "      <td>422</td>\n",
              "    </tr>\n",
              "    <tr>\n",
              "      <th rowspan=\"2\" valign=\"top\">饒夢霞_如歌人生2016愛您一路公益說唱會</th>\n",
              "      <th>2016-12-17 14:00:00</th>\n",
              "      <td>2.0</td>\n",
              "      <td>0.0</td>\n",
              "      <td>0.0</td>\n",
              "      <td>0.0</td>\n",
              "      <td>0.034553</td>\n",
              "      <td>1232.0</td>\n",
              "      <td>1200.0</td>\n",
              "      <td>0.0</td>\n",
              "      <td>1200.0</td>\n",
              "      <td>10.0</td>\n",
              "      <td>17353.0</td>\n",
              "      <td>492</td>\n",
              "    </tr>\n",
              "    <tr>\n",
              "      <th>2016-12-16 19:00:00</th>\n",
              "      <td>5.0</td>\n",
              "      <td>0.0</td>\n",
              "      <td>0.0</td>\n",
              "      <td>0.0</td>\n",
              "      <td>0.009709</td>\n",
              "      <td>936.0</td>\n",
              "      <td>1200.0</td>\n",
              "      <td>0.0</td>\n",
              "      <td>1200.0</td>\n",
              "      <td>10.0</td>\n",
              "      <td>17353.0</td>\n",
              "      <td>618</td>\n",
              "    </tr>\n",
              "    <tr>\n",
              "      <th>...</th>\n",
              "      <th>...</th>\n",
              "      <td>...</td>\n",
              "      <td>...</td>\n",
              "      <td>...</td>\n",
              "      <td>...</td>\n",
              "      <td>...</td>\n",
              "      <td>...</td>\n",
              "      <td>...</td>\n",
              "      <td>...</td>\n",
              "      <td>...</td>\n",
              "      <td>...</td>\n",
              "      <td>...</td>\n",
              "      <td>...</td>\n",
              "    </tr>\n",
              "    <tr>\n",
              "      <th>2015懷念歌廳秀巡迴演出</th>\n",
              "      <th>2015-05-09 19:00:00</th>\n",
              "      <td>3.0</td>\n",
              "      <td>0.0</td>\n",
              "      <td>0.0</td>\n",
              "      <td>0.0</td>\n",
              "      <td>0.036748</td>\n",
              "      <td>1800.0</td>\n",
              "      <td>2800.0</td>\n",
              "      <td>0.0</td>\n",
              "      <td>2800.0</td>\n",
              "      <td>800.0</td>\n",
              "      <td>16342.0</td>\n",
              "      <td>1796</td>\n",
              "    </tr>\n",
              "    <tr>\n",
              "      <th>2015八代亞紀\"台灣你好\"夏日金曲演唱會</th>\n",
              "      <th>2015-06-28 19:30:00</th>\n",
              "      <td>1.0</td>\n",
              "      <td>0.0</td>\n",
              "      <td>0.0</td>\n",
              "      <td>0.0</td>\n",
              "      <td>0.078333</td>\n",
              "      <td>3126.0</td>\n",
              "      <td>4800.0</td>\n",
              "      <td>0.0</td>\n",
              "      <td>4800.0</td>\n",
              "      <td>1200.0</td>\n",
              "      <td>16502.0</td>\n",
              "      <td>2783</td>\n",
              "    </tr>\n",
              "    <tr>\n",
              "      <th>2015_TOKU_Live_Concert_in_Taipei-日本爵士巨擘TOKU-2015台北演唱會</th>\n",
              "      <th>2015-11-26 19:30:00</th>\n",
              "      <td>1.0</td>\n",
              "      <td>0.0</td>\n",
              "      <td>0.0</td>\n",
              "      <td>0.0</td>\n",
              "      <td>0.102041</td>\n",
              "      <td>200.0</td>\n",
              "      <td>2000.0</td>\n",
              "      <td>2000.0</td>\n",
              "      <td>2000.0</td>\n",
              "      <td>2000.0</td>\n",
              "      <td>16968.0</td>\n",
              "      <td>49</td>\n",
              "    </tr>\n",
              "    <tr>\n",
              "      <th rowspan=\"2\" valign=\"top\">2015[世紀巨星風華絕代]金曲演唱會</th>\n",
              "      <th>2015-08-15 19:30:00</th>\n",
              "      <td>1.0</td>\n",
              "      <td>0.0</td>\n",
              "      <td>1.0</td>\n",
              "      <td>0.0</td>\n",
              "      <td>0.088055</td>\n",
              "      <td>3129.0</td>\n",
              "      <td>4680.0</td>\n",
              "      <td>0.0</td>\n",
              "      <td>4680.0</td>\n",
              "      <td>10.0</td>\n",
              "      <td>16562.0</td>\n",
              "      <td>1465</td>\n",
              "    </tr>\n",
              "    <tr>\n",
              "      <th>2015-08-14 19:30:00</th>\n",
              "      <td>1.0</td>\n",
              "      <td>0.0</td>\n",
              "      <td>1.0</td>\n",
              "      <td>0.0</td>\n",
              "      <td>0.082034</td>\n",
              "      <td>3129.0</td>\n",
              "      <td>4680.0</td>\n",
              "      <td>0.0</td>\n",
              "      <td>4680.0</td>\n",
              "      <td>10.0</td>\n",
              "      <td>16562.0</td>\n",
              "      <td>1219</td>\n",
              "    </tr>\n",
              "  </tbody>\n",
              "</table>\n",
              "<p>180 rows × 12 columns</p>\n",
              "</div>"
            ],
            "text/plain": [
              "                                                                        VenueArea  ...  count_visitors\n",
              "ConcertName                                        ReleaseDateTime                 ...                \n",
              "齋賀光希+阿部敦_W_Event_in_Taiwan                         2017-01-22 17:00:00        1.0  ...             113\n",
              "黃貫中英雄有分數演唱會                                        2016-04-30 19:30:00        1.0  ...            1029\n",
              "黃玠[關於那些記得的事]巡迴演唱會-台中場                              2016-11-26 20:00:00        2.0  ...             422\n",
              "饒夢霞_如歌人生2016愛您一路公益說唱會                              2016-12-17 14:00:00        2.0  ...             492\n",
              "                                                   2016-12-16 19:00:00        5.0  ...             618\n",
              "...                                                                           ...  ...             ...\n",
              "2015懷念歌廳秀巡迴演出                                      2015-05-09 19:00:00        3.0  ...            1796\n",
              "2015八代亞紀\"台灣你好\"夏日金曲演唱會                              2015-06-28 19:30:00        1.0  ...            2783\n",
              "2015_TOKU_Live_Concert_in_Taipei-日本爵士巨擘TOKU-201... 2015-11-26 19:30:00        1.0  ...              49\n",
              "2015[世紀巨星風華絕代]金曲演唱會                                2015-08-15 19:30:00        1.0  ...            1465\n",
              "                                                   2015-08-14 19:30:00        1.0  ...            1219\n",
              "\n",
              "[180 rows x 12 columns]"
            ]
          },
          "metadata": {
            "tags": []
          },
          "execution_count": 59
        }
      ]
    },
    {
      "cell_type": "code",
      "metadata": {
        "id": "KnfdimaYHmrX"
      },
      "source": [
        "data = pd.get_dummies(data, columns = ['VenueArea'])\n",
        "data[\"SalesRatio\"] = data[\"count_visitors\"] / data[\"TotalSeat\"]\n",
        "data = data.reset_index(drop = True)\n",
        "data = data.drop(columns = [\"TotalSeat\", \"ConcertId\"])"
      ],
      "execution_count": null,
      "outputs": []
    },
    {
      "cell_type": "code",
      "metadata": {
        "colab": {
          "base_uri": "https://localhost:8080/",
          "height": 419
        },
        "id": "abNvOph5BE2I",
        "outputId": "8188da23-d3fa-438e-f6d7-4073d78ebd3f"
      },
      "source": [
        "data"
      ],
      "execution_count": null,
      "outputs": [
        {
          "output_type": "execute_result",
          "data": {
            "text/html": [
              "<div>\n",
              "<style scoped>\n",
              "    .dataframe tbody tr th:only-of-type {\n",
              "        vertical-align: middle;\n",
              "    }\n",
              "\n",
              "    .dataframe tbody tr th {\n",
              "        vertical-align: top;\n",
              "    }\n",
              "\n",
              "    .dataframe thead th {\n",
              "        text-align: right;\n",
              "    }\n",
              "</style>\n",
              "<table border=\"1\" class=\"dataframe\">\n",
              "  <thead>\n",
              "    <tr style=\"text-align: right;\">\n",
              "      <th></th>\n",
              "      <th>VenueArea</th>\n",
              "      <th>Winter_vacation</th>\n",
              "      <th>Summer_vacation</th>\n",
              "      <th>Holiday</th>\n",
              "      <th>SexRatio</th>\n",
              "      <th>SoldPriceMax</th>\n",
              "      <th>SoldPriceMin</th>\n",
              "      <th>ListPriceMax</th>\n",
              "      <th>ListPriceMin</th>\n",
              "      <th>count_visitors</th>\n",
              "      <th>SalesRatio</th>\n",
              "    </tr>\n",
              "  </thead>\n",
              "  <tbody>\n",
              "    <tr>\n",
              "      <th>0</th>\n",
              "      <td>1.0</td>\n",
              "      <td>1.0</td>\n",
              "      <td>0.0</td>\n",
              "      <td>0.0</td>\n",
              "      <td>0.053097</td>\n",
              "      <td>2500.0</td>\n",
              "      <td>900.0</td>\n",
              "      <td>2500.0</td>\n",
              "      <td>900.0</td>\n",
              "      <td>113</td>\n",
              "      <td>0.246187</td>\n",
              "    </tr>\n",
              "    <tr>\n",
              "      <th>1</th>\n",
              "      <td>1.0</td>\n",
              "      <td>0.0</td>\n",
              "      <td>0.0</td>\n",
              "      <td>0.0</td>\n",
              "      <td>0.140914</td>\n",
              "      <td>3800.0</td>\n",
              "      <td>0.0</td>\n",
              "      <td>3800.0</td>\n",
              "      <td>1800.0</td>\n",
              "      <td>1029</td>\n",
              "      <td>0.328754</td>\n",
              "    </tr>\n",
              "    <tr>\n",
              "      <th>2</th>\n",
              "      <td>2.0</td>\n",
              "      <td>0.0</td>\n",
              "      <td>0.0</td>\n",
              "      <td>0.0</td>\n",
              "      <td>0.215640</td>\n",
              "      <td>1000.0</td>\n",
              "      <td>500.0</td>\n",
              "      <td>1000.0</td>\n",
              "      <td>500.0</td>\n",
              "      <td>422</td>\n",
              "      <td>0.875519</td>\n",
              "    </tr>\n",
              "    <tr>\n",
              "      <th>3</th>\n",
              "      <td>2.0</td>\n",
              "      <td>0.0</td>\n",
              "      <td>0.0</td>\n",
              "      <td>0.0</td>\n",
              "      <td>0.034553</td>\n",
              "      <td>1200.0</td>\n",
              "      <td>0.0</td>\n",
              "      <td>1200.0</td>\n",
              "      <td>10.0</td>\n",
              "      <td>492</td>\n",
              "      <td>0.399351</td>\n",
              "    </tr>\n",
              "    <tr>\n",
              "      <th>4</th>\n",
              "      <td>5.0</td>\n",
              "      <td>0.0</td>\n",
              "      <td>0.0</td>\n",
              "      <td>0.0</td>\n",
              "      <td>0.009709</td>\n",
              "      <td>1200.0</td>\n",
              "      <td>0.0</td>\n",
              "      <td>1200.0</td>\n",
              "      <td>10.0</td>\n",
              "      <td>618</td>\n",
              "      <td>0.660256</td>\n",
              "    </tr>\n",
              "    <tr>\n",
              "      <th>...</th>\n",
              "      <td>...</td>\n",
              "      <td>...</td>\n",
              "      <td>...</td>\n",
              "      <td>...</td>\n",
              "      <td>...</td>\n",
              "      <td>...</td>\n",
              "      <td>...</td>\n",
              "      <td>...</td>\n",
              "      <td>...</td>\n",
              "      <td>...</td>\n",
              "      <td>...</td>\n",
              "    </tr>\n",
              "    <tr>\n",
              "      <th>175</th>\n",
              "      <td>3.0</td>\n",
              "      <td>0.0</td>\n",
              "      <td>0.0</td>\n",
              "      <td>0.0</td>\n",
              "      <td>0.036748</td>\n",
              "      <td>2800.0</td>\n",
              "      <td>0.0</td>\n",
              "      <td>2800.0</td>\n",
              "      <td>800.0</td>\n",
              "      <td>1796</td>\n",
              "      <td>0.997778</td>\n",
              "    </tr>\n",
              "    <tr>\n",
              "      <th>176</th>\n",
              "      <td>1.0</td>\n",
              "      <td>0.0</td>\n",
              "      <td>0.0</td>\n",
              "      <td>0.0</td>\n",
              "      <td>0.078333</td>\n",
              "      <td>4800.0</td>\n",
              "      <td>0.0</td>\n",
              "      <td>4800.0</td>\n",
              "      <td>1200.0</td>\n",
              "      <td>2783</td>\n",
              "      <td>0.890275</td>\n",
              "    </tr>\n",
              "    <tr>\n",
              "      <th>177</th>\n",
              "      <td>1.0</td>\n",
              "      <td>0.0</td>\n",
              "      <td>0.0</td>\n",
              "      <td>0.0</td>\n",
              "      <td>0.102041</td>\n",
              "      <td>2000.0</td>\n",
              "      <td>2000.0</td>\n",
              "      <td>2000.0</td>\n",
              "      <td>2000.0</td>\n",
              "      <td>49</td>\n",
              "      <td>0.245000</td>\n",
              "    </tr>\n",
              "    <tr>\n",
              "      <th>178</th>\n",
              "      <td>1.0</td>\n",
              "      <td>0.0</td>\n",
              "      <td>1.0</td>\n",
              "      <td>0.0</td>\n",
              "      <td>0.088055</td>\n",
              "      <td>4680.0</td>\n",
              "      <td>0.0</td>\n",
              "      <td>4680.0</td>\n",
              "      <td>10.0</td>\n",
              "      <td>1465</td>\n",
              "      <td>0.468201</td>\n",
              "    </tr>\n",
              "    <tr>\n",
              "      <th>179</th>\n",
              "      <td>1.0</td>\n",
              "      <td>0.0</td>\n",
              "      <td>1.0</td>\n",
              "      <td>0.0</td>\n",
              "      <td>0.082034</td>\n",
              "      <td>4680.0</td>\n",
              "      <td>0.0</td>\n",
              "      <td>4680.0</td>\n",
              "      <td>10.0</td>\n",
              "      <td>1219</td>\n",
              "      <td>0.389581</td>\n",
              "    </tr>\n",
              "  </tbody>\n",
              "</table>\n",
              "<p>180 rows × 11 columns</p>\n",
              "</div>"
            ],
            "text/plain": [
              "     VenueArea  Winter_vacation  ...  count_visitors  SalesRatio\n",
              "0          1.0              1.0  ...             113    0.246187\n",
              "1          1.0              0.0  ...            1029    0.328754\n",
              "2          2.0              0.0  ...             422    0.875519\n",
              "3          2.0              0.0  ...             492    0.399351\n",
              "4          5.0              0.0  ...             618    0.660256\n",
              "..         ...              ...  ...             ...         ...\n",
              "175        3.0              0.0  ...            1796    0.997778\n",
              "176        1.0              0.0  ...            2783    0.890275\n",
              "177        1.0              0.0  ...              49    0.245000\n",
              "178        1.0              0.0  ...            1465    0.468201\n",
              "179        1.0              0.0  ...            1219    0.389581\n",
              "\n",
              "[180 rows x 11 columns]"
            ]
          },
          "metadata": {
            "tags": []
          },
          "execution_count": 28
        }
      ]
    },
    {
      "cell_type": "code",
      "metadata": {
        "id": "JjgJ_Xu5nInS"
      },
      "source": [
        "area = {\"VenueArea\": {1:\"Beibeiji\", 2:\"Zhongzhangtou\", 3:\"Gaoping\", 4:\"Taozhumiao\", 5:\"Yunjianan\", 6:\"Huadong\"}}\n",
        "plot_data = data.replace(area)"
      ],
      "execution_count": null,
      "outputs": []
    },
    {
      "cell_type": "code",
      "metadata": {
        "colab": {
          "base_uri": "https://localhost:8080/"
        },
        "id": "xFHMNpgohvGY",
        "outputId": "7cd8f205-1462-4eec-d370-d7341d07fc56"
      },
      "source": [
        "plot_data[\"VenueArea\"].value_counts()"
      ],
      "execution_count": null,
      "outputs": [
        {
          "output_type": "execute_result",
          "data": {
            "text/plain": [
              "Beibeiji         127\n",
              "Zhongzhangtou     23\n",
              "Gaoping           12\n",
              "Yunjianan          9\n",
              "Taozhumiao         6\n",
              "Huadong            3\n",
              "Name: VenueArea, dtype: int64"
            ]
          },
          "metadata": {
            "tags": []
          },
          "execution_count": 50
        }
      ]
    },
    {
      "cell_type": "code",
      "metadata": {
        "id": "vARF-fsCyfqH"
      },
      "source": [
        "plot_data['Q1_all'] = (plot_data.iloc[:, 1:4] == 1).idxmax(1)\n"
      ],
      "execution_count": null,
      "outputs": []
    },
    {
      "cell_type": "code",
      "metadata": {
        "id": "g17IOGcq0KfX"
      },
      "source": [
        "import seaborn as sns\n"
      ],
      "execution_count": null,
      "outputs": []
    },
    {
      "cell_type": "code",
      "metadata": {
        "colab": {
          "base_uri": "https://localhost:8080/"
        },
        "id": "KijMat9f0dcz",
        "outputId": "a63fc0f0-d397-4260-8a91-d2540dd21009"
      },
      "source": [
        "print(pd.crosstab(plot_data['Winter_vacation'],plot_data['Summer_vacation'],margins=True))"
      ],
      "execution_count": null,
      "outputs": [
        {
          "output_type": "stream",
          "text": [
            "Summer_vacation  0.0  1.0  All\n",
            "Winter_vacation               \n",
            "0.0              149   24  173\n",
            "1.0                7    0    7\n",
            "All              156   24  180\n"
          ],
          "name": "stdout"
        }
      ]
    },
    {
      "cell_type": "code",
      "metadata": {
        "colab": {
          "base_uri": "https://localhost:8080/",
          "height": 282
        },
        "id": "GBaCfBLczKxt",
        "outputId": "b3753f37-6689-411b-e1f8-5287e5314b4c"
      },
      "source": [
        "cross_tab_Q1_group = pd.crosstab([plot_data.Winter_vacation], [plot_data.Summer_vacation])\n",
        "cross_tab_Q1_group.plot(kind=\"barh\", stacked=True, color=[sns.xkcd_rgb['medium green'], sns.xkcd_rgb[\"pale red\"], sns.xkcd_rgb[\"denim blue\"]])"
      ],
      "execution_count": null,
      "outputs": [
        {
          "output_type": "execute_result",
          "data": {
            "text/plain": [
              "<matplotlib.axes._subplots.AxesSubplot at 0x7fe8cffc49d0>"
            ]
          },
          "metadata": {
            "tags": []
          },
          "execution_count": 42
        },
        {
          "output_type": "display_data",
          "data": {
            "image/png": "[encoded data removed]",
            "text/plain": [
              "<Figure size 432x288 with 1 Axes>"
            ]
          },
          "metadata": {
            "tags": [],
            "needs_background": "light"
          }
        }
      ]
    },
    {
      "cell_type": "code",
      "metadata": {
        "colab": {
          "base_uri": "https://localhost:8080/",
          "height": 374
        },
        "id": "dMXizDb_ksx9",
        "outputId": "b3b40057-14d2-4d4d-b417-d17aa416357b"
      },
      "source": [
        "plot_data[\"VenueArea\"].value_counts().plot.pie(autopct='%1.1f%%', fontsize=10, figsize=(6, 6))"
      ],
      "execution_count": null,
      "outputs": [
        {
          "output_type": "execute_result",
          "data": {
            "text/plain": [
              "<matplotlib.axes._subplots.AxesSubplot at 0x7f0c79baa710>"
            ]
          },
          "metadata": {
            "tags": []
          },
          "execution_count": 51
        },
        {
          "output_type": "display_data",
          "data": {
            "image/png": "[encoded data removed]",
            "text/plain": [
              "<Figure size 432x432 with 1 Axes>"
            ]
          },
          "metadata": {
            "tags": []
          }
        }
      ]
    },
    {
      "cell_type": "code",
      "metadata": {
        "colab": {
          "base_uri": "https://localhost:8080/",
          "height": 374
        },
        "id": "sGj4vTHouijG",
        "outputId": "3aad2a05-9f21-48b0-b117-3922a3114d64"
      },
      "source": [
        "plot_data[\"Winter_vacation\"].value_counts().plot.pie(labels = ['Not winter', 'Winter'], fontsize=10, figsize=(6, 6))"
      ],
      "execution_count": null,
      "outputs": [
        {
          "output_type": "execute_result",
          "data": {
            "text/plain": [
              "<matplotlib.axes._subplots.AxesSubplot at 0x7fe8d0240c10>"
            ]
          },
          "metadata": {
            "tags": []
          },
          "execution_count": 35
        },
        {
          "output_type": "display_data",
          "data": {
            "image/png": "[encoded data removed]",
            "text/plain": [
              "<Figure size 432x432 with 1 Axes>"
            ]
          },
          "metadata": {
            "tags": []
          }
        }
      ]
    },
    {
      "cell_type": "code",
      "metadata": {
        "colab": {
          "base_uri": "https://localhost:8080/",
          "height": 374
        },
        "id": "TSBy8Nlqu1os",
        "outputId": "6f5f3702-0bd9-43ed-d43c-e9bedfb2cffe"
      },
      "source": [
        "plot_data[\"Summer_vacation\"].value_counts().plot.pie(fontsize=10, figsize=(6, 6))"
      ],
      "execution_count": null,
      "outputs": [
        {
          "output_type": "execute_result",
          "data": {
            "text/plain": [
              "<matplotlib.axes._subplots.AxesSubplot at 0x7fe8d4c4e890>"
            ]
          },
          "metadata": {
            "tags": []
          },
          "execution_count": 31
        },
        {
          "output_type": "display_data",
          "data": {
            "image/png": "[encoded data removed]",
            "text/plain": [
              "<Figure size 432x432 with 1 Axes>"
            ]
          },
          "metadata": {
            "tags": []
          }
        }
      ]
    },
    {
      "cell_type": "code",
      "metadata": {
        "id": "AGjDu_o6BWop"
      },
      "source": [
        "X = data.drop(columns = [\"SalesRatio\"])\n",
        "y = data[[\"SalesRatio\"]]"
      ],
      "execution_count": null,
      "outputs": []
    },
    {
      "cell_type": "code",
      "metadata": {
        "colab": {
          "base_uri": "https://localhost:8080/",
          "height": 224
        },
        "id": "Sd2ee5qsDuU3",
        "outputId": "9943a36e-a46a-4f00-a87a-acac34d17621"
      },
      "source": [
        "X.head()"
      ],
      "execution_count": null,
      "outputs": [
        {
          "output_type": "execute_result",
          "data": {
            "text/html": [
              "<div>\n",
              "<style scoped>\n",
              "    .dataframe tbody tr th:only-of-type {\n",
              "        vertical-align: middle;\n",
              "    }\n",
              "\n",
              "    .dataframe tbody tr th {\n",
              "        vertical-align: top;\n",
              "    }\n",
              "\n",
              "    .dataframe thead th {\n",
              "        text-align: right;\n",
              "    }\n",
              "</style>\n",
              "<table border=\"1\" class=\"dataframe\">\n",
              "  <thead>\n",
              "    <tr style=\"text-align: right;\">\n",
              "      <th></th>\n",
              "      <th>Winter_vacation</th>\n",
              "      <th>Summer_vacation</th>\n",
              "      <th>Holiday</th>\n",
              "      <th>SexRatio</th>\n",
              "      <th>SoldPriceMax</th>\n",
              "      <th>SoldPriceMin</th>\n",
              "      <th>ListPriceMax</th>\n",
              "      <th>ListPriceMin</th>\n",
              "      <th>count_visitors</th>\n",
              "      <th>VenueArea_1.0</th>\n",
              "      <th>VenueArea_2.0</th>\n",
              "      <th>VenueArea_3.0</th>\n",
              "      <th>VenueArea_4.0</th>\n",
              "      <th>VenueArea_5.0</th>\n",
              "      <th>VenueArea_6.0</th>\n",
              "    </tr>\n",
              "  </thead>\n",
              "  <tbody>\n",
              "    <tr>\n",
              "      <th>0</th>\n",
              "      <td>1.0</td>\n",
              "      <td>0.0</td>\n",
              "      <td>0.0</td>\n",
              "      <td>0.053097</td>\n",
              "      <td>2500.0</td>\n",
              "      <td>900.0</td>\n",
              "      <td>2500.0</td>\n",
              "      <td>900.0</td>\n",
              "      <td>113</td>\n",
              "      <td>1</td>\n",
              "      <td>0</td>\n",
              "      <td>0</td>\n",
              "      <td>0</td>\n",
              "      <td>0</td>\n",
              "      <td>0</td>\n",
              "    </tr>\n",
              "    <tr>\n",
              "      <th>1</th>\n",
              "      <td>0.0</td>\n",
              "      <td>0.0</td>\n",
              "      <td>0.0</td>\n",
              "      <td>0.140914</td>\n",
              "      <td>3800.0</td>\n",
              "      <td>0.0</td>\n",
              "      <td>3800.0</td>\n",
              "      <td>1800.0</td>\n",
              "      <td>1029</td>\n",
              "      <td>1</td>\n",
              "      <td>0</td>\n",
              "      <td>0</td>\n",
              "      <td>0</td>\n",
              "      <td>0</td>\n",
              "      <td>0</td>\n",
              "    </tr>\n",
              "    <tr>\n",
              "      <th>2</th>\n",
              "      <td>0.0</td>\n",
              "      <td>0.0</td>\n",
              "      <td>0.0</td>\n",
              "      <td>0.215640</td>\n",
              "      <td>1000.0</td>\n",
              "      <td>500.0</td>\n",
              "      <td>1000.0</td>\n",
              "      <td>500.0</td>\n",
              "      <td>422</td>\n",
              "      <td>0</td>\n",
              "      <td>1</td>\n",
              "      <td>0</td>\n",
              "      <td>0</td>\n",
              "      <td>0</td>\n",
              "      <td>0</td>\n",
              "    </tr>\n",
              "    <tr>\n",
              "      <th>3</th>\n",
              "      <td>0.0</td>\n",
              "      <td>0.0</td>\n",
              "      <td>0.0</td>\n",
              "      <td>0.034553</td>\n",
              "      <td>1200.0</td>\n",
              "      <td>0.0</td>\n",
              "      <td>1200.0</td>\n",
              "      <td>10.0</td>\n",
              "      <td>492</td>\n",
              "      <td>0</td>\n",
              "      <td>1</td>\n",
              "      <td>0</td>\n",
              "      <td>0</td>\n",
              "      <td>0</td>\n",
              "      <td>0</td>\n",
              "    </tr>\n",
              "    <tr>\n",
              "      <th>4</th>\n",
              "      <td>0.0</td>\n",
              "      <td>0.0</td>\n",
              "      <td>0.0</td>\n",
              "      <td>0.009709</td>\n",
              "      <td>1200.0</td>\n",
              "      <td>0.0</td>\n",
              "      <td>1200.0</td>\n",
              "      <td>10.0</td>\n",
              "      <td>618</td>\n",
              "      <td>0</td>\n",
              "      <td>0</td>\n",
              "      <td>0</td>\n",
              "      <td>0</td>\n",
              "      <td>1</td>\n",
              "      <td>0</td>\n",
              "    </tr>\n",
              "  </tbody>\n",
              "</table>\n",
              "</div>"
            ],
            "text/plain": [
              "   Winter_vacation  Summer_vacation  ...  VenueArea_5.0  VenueArea_6.0\n",
              "0              1.0              0.0  ...              0              0\n",
              "1              0.0              0.0  ...              0              0\n",
              "2              0.0              0.0  ...              0              0\n",
              "3              0.0              0.0  ...              0              0\n",
              "4              0.0              0.0  ...              1              0\n",
              "\n",
              "[5 rows x 15 columns]"
            ]
          },
          "metadata": {
            "tags": []
          },
          "execution_count": 85
        }
      ]
    },
    {
      "cell_type": "code",
      "metadata": {
        "colab": {
          "base_uri": "https://localhost:8080/",
          "height": 204
        },
        "id": "-AnIH_LoD0Sd",
        "outputId": "64c0595b-52ec-48a8-dcd2-4d3306d25242"
      },
      "source": [
        "y.head()"
      ],
      "execution_count": null,
      "outputs": [
        {
          "output_type": "execute_result",
          "data": {
            "text/html": [
              "<div>\n",
              "<style scoped>\n",
              "    .dataframe tbody tr th:only-of-type {\n",
              "        vertical-align: middle;\n",
              "    }\n",
              "\n",
              "    .dataframe tbody tr th {\n",
              "        vertical-align: top;\n",
              "    }\n",
              "\n",
              "    .dataframe thead th {\n",
              "        text-align: right;\n",
              "    }\n",
              "</style>\n",
              "<table border=\"1\" class=\"dataframe\">\n",
              "  <thead>\n",
              "    <tr style=\"text-align: right;\">\n",
              "      <th></th>\n",
              "      <th>SalesRatio</th>\n",
              "    </tr>\n",
              "  </thead>\n",
              "  <tbody>\n",
              "    <tr>\n",
              "      <th>0</th>\n",
              "      <td>0.246187</td>\n",
              "    </tr>\n",
              "    <tr>\n",
              "      <th>1</th>\n",
              "      <td>0.328754</td>\n",
              "    </tr>\n",
              "    <tr>\n",
              "      <th>2</th>\n",
              "      <td>0.875519</td>\n",
              "    </tr>\n",
              "    <tr>\n",
              "      <th>3</th>\n",
              "      <td>0.399351</td>\n",
              "    </tr>\n",
              "    <tr>\n",
              "      <th>4</th>\n",
              "      <td>0.660256</td>\n",
              "    </tr>\n",
              "  </tbody>\n",
              "</table>\n",
              "</div>"
            ],
            "text/plain": [
              "   SalesRatio\n",
              "0    0.246187\n",
              "1    0.328754\n",
              "2    0.875519\n",
              "3    0.399351\n",
              "4    0.660256"
            ]
          },
          "metadata": {
            "tags": []
          },
          "execution_count": 34
        }
      ]
    },
    {
      "cell_type": "code",
      "metadata": {
        "id": "BmCEaPaYOBxK"
      },
      "source": [
        "min_max_scaler = preprocessing.MinMaxScaler()\n",
        "X = min_max_scaler.fit_transform(X)"
      ],
      "execution_count": null,
      "outputs": []
    },
    {
      "cell_type": "code",
      "metadata": {
        "id": "lHvWbYh8BdHs"
      },
      "source": [
        "X_train, X_test, y_train, y_test = train_test_split(X, y, test_size=0.33, random_state=42)"
      ],
      "execution_count": null,
      "outputs": []
    },
    {
      "cell_type": "code",
      "metadata": {
        "id": "f3GSROgc37QZ"
      },
      "source": [
        "#from sklearn.svm import SVM\n",
        "#from sklearn.tree import DecisionTreeRegressor\n",
        "from sklearn.ensemble import RandomForestRegressor, AdaBoostRegressor\n",
        "#from sklearn.neural_network import MLPRegressor\n",
        "from sklearn.linear_model import LinearRegression\n"
      ],
      "execution_count": null,
      "outputs": []
    },
    {
      "cell_type": "code",
      "metadata": {
        "id": "6jqspS2V4Mxx"
      },
      "source": [
        "result = {}\n",
        "models = [\n",
        "    RandomForestRegressor(),\n",
        "    AdaBoostRegressor(),\n",
        "    LinearRegression()]\n",
        "models_name = [\"RF\", \"Adaboost\", \"LinearRegression\"]"
      ],
      "execution_count": null,
      "outputs": []
    },
    {
      "cell_type": "code",
      "metadata": {
        "id": "CFjLaoG1y-yy"
      },
      "source": [
        "from sklearn.metrics import r2_score\n",
        "from sklearn.model_selection import cross_val_score\n",
        "from sklearn.metrics import mean_squared_error"
      ],
      "execution_count": null,
      "outputs": []
    },
    {
      "cell_type": "code",
      "metadata": {
        "id": "XlBkh4U7gN3f",
        "colab": {
          "base_uri": "https://localhost:8080/"
        },
        "outputId": "802770db-c1b7-4b5a-da46-4c9fd21f0640"
      },
      "source": [
        "for i,model in enumerate(models):\n",
        "    print(\"%s Model fitting......\"%models_name[i])\n",
        "    model.fit(X_train, y_train)\n",
        "    y_train_pred = model.predict(X_train)\n",
        "    y_test_pred = model.predict(X_test)\n",
        "    \n",
        "    result[models_name[i]] = {}\n",
        "    result[models_name[i]][\"accuracy_training\"] = r2_score(y_train, y_train_pred)\n",
        "    result[models_name[i]][\"accuracy_testing\"] = r2_score(y_test, y_test_pred)\n",
        "    result[models_name[i]][\"cross_val_score_training\"] = cross_val_score(model, y_train, y_train_pred, cv=5).mean()\n",
        "    result[models_name[i]][\"cross_val_score_testing\"] = cross_val_score(model, y_test, y_test_pred, cv=5).mean()\n"
      ],
      "execution_count": null,
      "outputs": [
        {
          "output_type": "stream",
          "text": [
            "RF Model fitting......\n"
          ],
          "name": "stdout"
        },
        {
          "output_type": "stream",
          "text": [
            "/usr/local/lib/python3.7/dist-packages/ipykernel_launcher.py:3: DataConversionWarning: A column-vector y was passed when a 1d array was expected. Please change the shape of y to (n_samples,), for example using ravel().\n",
            "  This is separate from the ipykernel package so we can avoid doing imports until\n"
          ],
          "name": "stderr"
        },
        {
          "output_type": "stream",
          "text": [
            "Adaboost Model fitting......\n"
          ],
          "name": "stdout"
        },
        {
          "output_type": "stream",
          "text": [
            "/usr/local/lib/python3.7/dist-packages/sklearn/utils/validation.py:760: DataConversionWarning: A column-vector y was passed when a 1d array was expected. Please change the shape of y to (n_samples, ), for example using ravel().\n",
            "  y = column_or_1d(y, warn=True)\n"
          ],
          "name": "stderr"
        },
        {
          "output_type": "stream",
          "text": [
            "LinearRegression Model fitting......\n"
          ],
          "name": "stdout"
        }
      ]
    },
    {
      "cell_type": "code",
      "metadata": {
        "colab": {
          "base_uri": "https://localhost:8080/",
          "height": 173
        },
        "id": "CYonUH19hGPb",
        "outputId": "cf8abe4e-e468-4722-c4d0-e9ef4de3989b"
      },
      "source": [
        "pd.DataFrame(result)"
      ],
      "execution_count": null,
      "outputs": [
        {
          "output_type": "execute_result",
          "data": {
            "text/html": [
              "<div>\n",
              "<style scoped>\n",
              "    .dataframe tbody tr th:only-of-type {\n",
              "        vertical-align: middle;\n",
              "    }\n",
              "\n",
              "    .dataframe tbody tr th {\n",
              "        vertical-align: top;\n",
              "    }\n",
              "\n",
              "    .dataframe thead th {\n",
              "        text-align: right;\n",
              "    }\n",
              "</style>\n",
              "<table border=\"1\" class=\"dataframe\">\n",
              "  <thead>\n",
              "    <tr style=\"text-align: right;\">\n",
              "      <th></th>\n",
              "      <th>RF</th>\n",
              "      <th>Adaboost</th>\n",
              "      <th>LinearRegression</th>\n",
              "    </tr>\n",
              "  </thead>\n",
              "  <tbody>\n",
              "    <tr>\n",
              "      <th>accuracy_training</th>\n",
              "      <td>0.933230</td>\n",
              "      <td>0.782942</td>\n",
              "      <td>0.376951</td>\n",
              "    </tr>\n",
              "    <tr>\n",
              "      <th>accuracy_testing</th>\n",
              "      <td>0.493532</td>\n",
              "      <td>0.396233</td>\n",
              "      <td>0.129239</td>\n",
              "    </tr>\n",
              "    <tr>\n",
              "      <th>cross_val_score_training</th>\n",
              "      <td>0.925630</td>\n",
              "      <td>0.879414</td>\n",
              "      <td>0.353401</td>\n",
              "    </tr>\n",
              "    <tr>\n",
              "      <th>cross_val_score_testing</th>\n",
              "      <td>-0.019734</td>\n",
              "      <td>0.041446</td>\n",
              "      <td>0.025918</td>\n",
              "    </tr>\n",
              "  </tbody>\n",
              "</table>\n",
              "</div>"
            ],
            "text/plain": [
              "                                RF  Adaboost  LinearRegression\n",
              "accuracy_training         0.933230  0.782942          0.376951\n",
              "accuracy_testing          0.493532  0.396233          0.129239\n",
              "cross_val_score_training  0.925630  0.879414          0.353401\n",
              "cross_val_score_testing  -0.019734  0.041446          0.025918"
            ]
          },
          "metadata": {
            "tags": []
          },
          "execution_count": 49
        }
      ]
    },
    {
      "cell_type": "code",
      "metadata": {
        "id": "ixD9SzAkJK5r"
      },
      "source": [
        ""
      ],
      "execution_count": null,
      "outputs": []
    }
  ]
}